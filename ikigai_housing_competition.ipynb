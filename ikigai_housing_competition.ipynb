{
 "cells": [
  {
   "cell_type": "code",
   "execution_count": 1,
   "metadata": {
    "collapsed": false
   },
   "outputs": [],
   "source": [
    "import numpy as np\n",
    "import pandas as pd\n",
    "import matplotlib.pyplot as plt"
   ]
  },
  {
   "cell_type": "code",
   "execution_count": 2,
   "metadata": {
    "collapsed": false
   },
   "outputs": [],
   "source": [
    "data = pd.read_csv('train_house_data.csv')"
   ]
  },
  {
   "cell_type": "code",
   "execution_count": 3,
   "metadata": {
    "collapsed": false
   },
   "outputs": [
    {
     "data": {
      "text/html": [
       "<div>\n",
       "<style scoped>\n",
       "    .dataframe tbody tr th:only-of-type {\n",
       "        vertical-align: middle;\n",
       "    }\n",
       "\n",
       "    .dataframe tbody tr th {\n",
       "        vertical-align: top;\n",
       "    }\n",
       "\n",
       "    .dataframe thead th {\n",
       "        text-align: right;\n",
       "    }\n",
       "</style>\n",
       "<table border=\"1\" class=\"dataframe\">\n",
       "  <thead>\n",
       "    <tr style=\"text-align: right;\">\n",
       "      <th></th>\n",
       "      <th>house_id</th>\n",
       "      <th>area_type</th>\n",
       "      <th>availability</th>\n",
       "      <th>location</th>\n",
       "      <th>size</th>\n",
       "      <th>society</th>\n",
       "      <th>total_sqft</th>\n",
       "      <th>bath</th>\n",
       "      <th>balcony</th>\n",
       "      <th>price</th>\n",
       "    </tr>\n",
       "  </thead>\n",
       "  <tbody>\n",
       "    <tr>\n",
       "      <th>0</th>\n",
       "      <td>house_9442</td>\n",
       "      <td>Super built-up  Area</td>\n",
       "      <td>Ready To Move</td>\n",
       "      <td>Abbigere</td>\n",
       "      <td>2 BHK</td>\n",
       "      <td>SLtias</td>\n",
       "      <td>795</td>\n",
       "      <td>2.0</td>\n",
       "      <td>1.0</td>\n",
       "      <td>32.54</td>\n",
       "    </tr>\n",
       "    <tr>\n",
       "      <th>1</th>\n",
       "      <td>house_2578</td>\n",
       "      <td>Super built-up  Area</td>\n",
       "      <td>Ready To Move</td>\n",
       "      <td>Mallasandra</td>\n",
       "      <td>2 BHK</td>\n",
       "      <td>NaN</td>\n",
       "      <td>1340</td>\n",
       "      <td>2.0</td>\n",
       "      <td>2.0</td>\n",
       "      <td>61.00</td>\n",
       "    </tr>\n",
       "    <tr>\n",
       "      <th>2</th>\n",
       "      <td>house_8279</td>\n",
       "      <td>Super built-up  Area</td>\n",
       "      <td>Ready To Move</td>\n",
       "      <td>Sector 2 HSR Layout</td>\n",
       "      <td>3 BHK</td>\n",
       "      <td>NDpalSe</td>\n",
       "      <td>1512</td>\n",
       "      <td>3.0</td>\n",
       "      <td>NaN</td>\n",
       "      <td>80.00</td>\n",
       "    </tr>\n",
       "    <tr>\n",
       "      <th>3</th>\n",
       "      <td>house_1584</td>\n",
       "      <td>Super built-up  Area</td>\n",
       "      <td>19-Dec</td>\n",
       "      <td>Hoodi</td>\n",
       "      <td>3 BHK</td>\n",
       "      <td>Caycend</td>\n",
       "      <td>1512</td>\n",
       "      <td>3.0</td>\n",
       "      <td>2.0</td>\n",
       "      <td>75.77</td>\n",
       "    </tr>\n",
       "    <tr>\n",
       "      <th>4</th>\n",
       "      <td>house_4516</td>\n",
       "      <td>Plot  Area</td>\n",
       "      <td>Ready To Move</td>\n",
       "      <td>RMV 2nd Stage</td>\n",
       "      <td>3 Bedroom</td>\n",
       "      <td>NaN</td>\n",
       "      <td>4470</td>\n",
       "      <td>3.0</td>\n",
       "      <td>NaN</td>\n",
       "      <td>700.00</td>\n",
       "    </tr>\n",
       "  </tbody>\n",
       "</table>\n",
       "</div>"
      ],
      "text/plain": [
       "     house_id             area_type   availability             location  \\\n",
       "0  house_9442  Super built-up  Area  Ready To Move             Abbigere   \n",
       "1  house_2578  Super built-up  Area  Ready To Move          Mallasandra   \n",
       "2  house_8279  Super built-up  Area  Ready To Move  Sector 2 HSR Layout   \n",
       "3  house_1584  Super built-up  Area         19-Dec                Hoodi   \n",
       "4  house_4516            Plot  Area  Ready To Move        RMV 2nd Stage   \n",
       "\n",
       "        size  society total_sqft  bath  balcony   price  \n",
       "0      2 BHK  SLtias         795   2.0      1.0   32.54  \n",
       "1      2 BHK      NaN       1340   2.0      2.0   61.00  \n",
       "2      3 BHK  NDpalSe       1512   3.0      NaN   80.00  \n",
       "3      3 BHK  Caycend       1512   3.0      2.0   75.77  \n",
       "4  3 Bedroom      NaN       4470   3.0      NaN  700.00  "
      ]
     },
     "execution_count": 3,
     "metadata": {},
     "output_type": "execute_result"
    }
   ],
   "source": [
    "data.head()"
   ]
  },
  {
   "cell_type": "code",
   "execution_count": 4,
   "metadata": {
    "collapsed": false
   },
   "outputs": [
    {
     "data": {
      "text/plain": [
       "(10656, 10)"
      ]
     },
     "execution_count": 4,
     "metadata": {},
     "output_type": "execute_result"
    }
   ],
   "source": [
    "data.shape"
   ]
  },
  {
   "cell_type": "code",
   "execution_count": 5,
   "metadata": {
    "collapsed": false
   },
   "outputs": [
    {
     "name": "stdout",
     "output_type": "stream",
     "text": [
      "<class 'pandas.core.frame.DataFrame'>\n",
      "RangeIndex: 10656 entries, 0 to 10655\n",
      "Data columns (total 10 columns):\n",
      " #   Column        Non-Null Count  Dtype  \n",
      "---  ------        --------------  -----  \n",
      " 0   house_id      10656 non-null  object \n",
      " 1   area_type     10656 non-null  object \n",
      " 2   availability  10656 non-null  object \n",
      " 3   location      10656 non-null  object \n",
      " 4   size          10640 non-null  object \n",
      " 5   society       6253 non-null   object \n",
      " 6   total_sqft    10656 non-null  object \n",
      " 7   bath          10596 non-null  float64\n",
      " 8   balcony       10189 non-null  float64\n",
      " 9   price         10656 non-null  float64\n",
      "dtypes: float64(3), object(7)\n",
      "memory usage: 832.6+ KB\n"
     ]
    }
   ],
   "source": [
    "data.info()"
   ]
  },
  {
   "cell_type": "code",
   "execution_count": 6,
   "metadata": {
    "collapsed": false
   },
   "outputs": [],
   "source": [
    "data = data.drop('society', axis = 1)"
   ]
  },
  {
   "cell_type": "code",
   "execution_count": 7,
   "metadata": {
    "collapsed": false
   },
   "outputs": [
    {
     "data": {
      "image/png": "[encoded data removed]",
      "text/plain": [
       "<Figure size 432x432 with 1 Axes>"
      ]
     },
     "metadata": {
      "needs_background": "light"
     },
     "output_type": "display_data"
    }
   ],
   "source": [
    "plt.figure(figsize=(6,6))\n",
    "plt.hist(data['area_type'])\n",
    "plt.show()"
   ]
  },
  {
   "cell_type": "code",
   "execution_count": 8,
   "metadata": {
    "collapsed": false
   },
   "outputs": [
    {
     "data": {
      "text/plain": [
       "Ready To Move    8451\n",
       "18-Dec            256\n",
       "18-May            246\n",
       "18-Apr            211\n",
       "18-Aug            153\n",
       "                 ... \n",
       "15-Jun              1\n",
       "17-Jan              1\n",
       "15-Dec              1\n",
       "14-Nov              1\n",
       "17-Feb              1\n",
       "Name: availability, Length: 75, dtype: int64"
      ]
     },
     "execution_count": 8,
     "metadata": {},
     "output_type": "execute_result"
    }
   ],
   "source": [
    "data.availability.value_counts()"
   ]
  },
  {
   "cell_type": "code",
   "execution_count": 9,
   "metadata": {
    "collapsed": false
   },
   "outputs": [],
   "source": [
    "data['availability'] = data.availability.apply(lambda x: x if x == 'Ready To Move' else 'Currently Not')"
   ]
  },
  {
   "cell_type": "code",
   "execution_count": 10,
   "metadata": {
    "collapsed": false
   },
   "outputs": [
    {
     "data": {
      "image/png": "[encoded data removed]",
      "text/plain": [
       "<Figure size 432x432 with 1 Axes>"
      ]
     },
     "metadata": {
      "needs_background": "light"
     },
     "output_type": "display_data"
    }
   ],
   "source": [
    "plt.figure(figsize=(6,6))\n",
    "plt.hist(data['availability'])\n",
    "plt.show()"
   ]
  },
  {
   "cell_type": "code",
   "execution_count": 11,
   "metadata": {
    "collapsed": false
   },
   "outputs": [],
   "source": [
    "data['availability'] = pd.get_dummies(data['availability'], drop_first=True)"
   ]
  },
  {
   "cell_type": "code",
   "execution_count": 12,
   "metadata": {
    "collapsed": false
   },
   "outputs": [
    {
     "data": {
      "text/plain": [
       "(10656, 9)"
      ]
     },
     "execution_count": 12,
     "metadata": {},
     "output_type": "execute_result"
    }
   ],
   "source": [
    "data.shape"
   ]
  },
  {
   "cell_type": "code",
   "execution_count": 13,
   "metadata": {
    "collapsed": false
   },
   "outputs": [
    {
     "data": {
      "text/plain": [
       "house_id          0\n",
       "area_type         0\n",
       "availability      0\n",
       "location          0\n",
       "size             16\n",
       "total_sqft        0\n",
       "bath             60\n",
       "balcony         467\n",
       "price             0\n",
       "dtype: int64"
      ]
     },
     "execution_count": 13,
     "metadata": {},
     "output_type": "execute_result"
    }
   ],
   "source": [
    "data.isnull().sum()"
   ]
  },
  {
   "cell_type": "code",
   "execution_count": 14,
   "metadata": {
    "collapsed": false
   },
   "outputs": [
    {
     "name": "stdout",
     "output_type": "stream",
     "text": [
      "<class 'pandas.core.frame.DataFrame'>\n",
      "RangeIndex: 10656 entries, 0 to 10655\n",
      "Data columns (total 9 columns):\n",
      " #   Column        Non-Null Count  Dtype  \n",
      "---  ------        --------------  -----  \n",
      " 0   house_id      10656 non-null  object \n",
      " 1   area_type     10656 non-null  object \n",
      " 2   availability  10656 non-null  uint8  \n",
      " 3   location      10656 non-null  object \n",
      " 4   size          10640 non-null  object \n",
      " 5   total_sqft    10656 non-null  object \n",
      " 6   bath          10596 non-null  float64\n",
      " 7   balcony       10189 non-null  float64\n",
      " 8   price         10656 non-null  float64\n",
      "dtypes: float64(3), object(5), uint8(1)\n",
      "memory usage: 676.5+ KB\n"
     ]
    }
   ],
   "source": [
    "data.info()"
   ]
  },
  {
   "cell_type": "code",
   "execution_count": 15,
   "metadata": {
    "collapsed": false
   },
   "outputs": [],
   "source": [
    "def convert_to_bedroom(x):\n",
    "    s = str(x).split(' ')[0]\n",
    "    return s"
   ]
  },
  {
   "cell_type": "code",
   "execution_count": 16,
   "metadata": {
    "collapsed": false
   },
   "outputs": [],
   "source": [
    "data['BHK'] = data['size'].apply(convert_to_bedroom)"
   ]
  },
  {
   "cell_type": "code",
   "execution_count": 17,
   "metadata": {
    "collapsed": false
   },
   "outputs": [],
   "source": [
    "a = data['BHK'].mode().iloc[0]"
   ]
  },
  {
   "cell_type": "code",
   "execution_count": 18,
   "metadata": {
    "collapsed": false
   },
   "outputs": [
    {
     "data": {
      "text/plain": [
       "pandas.core.series.Series"
      ]
     },
     "execution_count": 18,
     "metadata": {},
     "output_type": "execute_result"
    }
   ],
   "source": [
    "type(data['BHK'].mode())"
   ]
  },
  {
   "cell_type": "code",
   "execution_count": 19,
   "metadata": {
    "collapsed": false
   },
   "outputs": [],
   "source": [
    "data['BHK'] = data['BHK'].apply(lambda x: a if x == 'nan' else x)"
   ]
  },
  {
   "cell_type": "code",
   "execution_count": 20,
   "metadata": {
    "collapsed": false
   },
   "outputs": [],
   "source": [
    "data['BHK'] = data['BHK'].apply(lambda x: float(x))"
   ]
  },
  {
   "cell_type": "code",
   "execution_count": 21,
   "metadata": {
    "collapsed": false
   },
   "outputs": [
    {
     "data": {
      "text/plain": [
       "(10656, 10)"
      ]
     },
     "execution_count": 21,
     "metadata": {},
     "output_type": "execute_result"
    }
   ],
   "source": [
    "data.shape"
   ]
  },
  {
   "cell_type": "code",
   "execution_count": 22,
   "metadata": {
    "collapsed": false
   },
   "outputs": [
    {
     "data": {
      "text/plain": [
       "str"
      ]
     },
     "execution_count": 22,
     "metadata": {},
     "output_type": "execute_result"
    }
   ],
   "source": [
    "type(data['total_sqft'][2])"
   ]
  },
  {
   "cell_type": "code",
   "execution_count": 23,
   "metadata": {
    "collapsed": false
   },
   "outputs": [],
   "source": [
    "def is_float(x):\n",
    "    try:\n",
    "        float(x)\n",
    "    except:\n",
    "        return False\n",
    "    return True"
   ]
  },
  {
   "cell_type": "code",
   "execution_count": 24,
   "metadata": {
    "collapsed": false
   },
   "outputs": [
    {
     "data": {
      "text/plain": [
       "26       547.34 - 827.31\n",
       "119          1200 - 2400\n",
       "131          1100 - 1225\n",
       "167          1660 - 1805\n",
       "251          2830 - 2882\n",
       "              ...       \n",
       "10529          520 - 645\n",
       "10577        1255 - 1350\n",
       "10579        1020 - 1130\n",
       "10635        2800 - 2870\n",
       "10650          615 - 985\n",
       "Name: total_sqft, Length: 204, dtype: object"
      ]
     },
     "execution_count": 24,
     "metadata": {},
     "output_type": "execute_result"
    }
   ],
   "source": [
    "data['total_sqft'][~data['total_sqft'].apply(is_float)]"
   ]
  },
  {
   "cell_type": "code",
   "execution_count": 25,
   "metadata": {
    "collapsed": false
   },
   "outputs": [],
   "source": [
    "def conversion(data):\n",
    "    a = data.split('-')\n",
    "    if len(a) == 2:\n",
    "        return (float(a[0]) + float(a[1]))/2\n",
    "    try:\n",
    "        return float(data)\n",
    "    except:\n",
    "        return None"
   ]
  },
  {
   "cell_type": "code",
   "execution_count": 26,
   "metadata": {
    "collapsed": false
   },
   "outputs": [],
   "source": [
    "data['total_sqft'] = data['total_sqft'].apply(conversion)"
   ]
  },
  {
   "cell_type": "code",
   "execution_count": 27,
   "metadata": {
    "collapsed": false
   },
   "outputs": [
    {
     "name": "stdout",
     "output_type": "stream",
     "text": [
      "<class 'pandas.core.series.Series'>\n",
      "RangeIndex: 10656 entries, 0 to 10655\n",
      "Series name: total_sqft\n",
      "Non-Null Count  Dtype  \n",
      "--------------  -----  \n",
      "10623 non-null  float64\n",
      "dtypes: float64(1)\n",
      "memory usage: 83.4 KB\n"
     ]
    }
   ],
   "source": [
    "data['total_sqft'].info()"
   ]
  },
  {
   "cell_type": "code",
   "execution_count": 28,
   "metadata": {
    "collapsed": false
   },
   "outputs": [],
   "source": [
    "num_col = ['total_sqft','bath','balcony']"
   ]
  },
  {
   "cell_type": "code",
   "execution_count": 29,
   "metadata": {
    "collapsed": false
   },
   "outputs": [],
   "source": [
    "from sklearn.impute import SimpleImputer"
   ]
  },
  {
   "cell_type": "code",
   "execution_count": 30,
   "metadata": {
    "collapsed": false
   },
   "outputs": [],
   "source": [
    "imputer = SimpleImputer(strategy='median')\n",
    "data[num_col] = imputer.fit_transform(data[num_col])"
   ]
  },
  {
   "cell_type": "code",
   "execution_count": 31,
   "metadata": {
    "collapsed": false
   },
   "outputs": [
    {
     "name": "stdout",
     "output_type": "stream",
     "text": [
      "<class 'pandas.core.frame.DataFrame'>\n",
      "RangeIndex: 10656 entries, 0 to 10655\n",
      "Data columns (total 10 columns):\n",
      " #   Column        Non-Null Count  Dtype  \n",
      "---  ------        --------------  -----  \n",
      " 0   house_id      10656 non-null  object \n",
      " 1   area_type     10656 non-null  object \n",
      " 2   availability  10656 non-null  uint8  \n",
      " 3   location      10656 non-null  object \n",
      " 4   size          10640 non-null  object \n",
      " 5   total_sqft    10656 non-null  float64\n",
      " 6   bath          10656 non-null  float64\n",
      " 7   balcony       10656 non-null  float64\n",
      " 8   price         10656 non-null  float64\n",
      " 9   BHK           10656 non-null  float64\n",
      "dtypes: float64(5), object(4), uint8(1)\n",
      "memory usage: 759.8+ KB\n"
     ]
    }
   ],
   "source": [
    "data.info()"
   ]
  },
  {
   "cell_type": "markdown",
   "metadata": {
    "collapsed": false
   },
   "source": [
    "Handling Categorical Column"
   ]
  },
  {
   "cell_type": "code",
   "execution_count": 32,
   "metadata": {
    "collapsed": false
   },
   "outputs": [
    {
     "data": {
      "text/plain": [
       "array(['Abbigere', 'Mallasandra', 'Sector 2 HSR Layout', ...,\n",
       "       'BDS Layout', 'Hoskote near', 'Kalasipalya'], dtype=object)"
      ]
     },
     "execution_count": 32,
     "metadata": {},
     "output_type": "execute_result"
    }
   ],
   "source": [
    "data['location'].unique()"
   ]
  },
  {
   "cell_type": "code",
   "execution_count": 33,
   "metadata": {
    "collapsed": false
   },
   "outputs": [
    {
     "data": {
      "text/plain": [
       "Whitefield              445\n",
       "Sarjapur  Road          318\n",
       "Electronic City         246\n",
       "Kanakpura Road          212\n",
       "Thanisandra             184\n",
       "                       ... \n",
       "Sahyadri Layout           1\n",
       "Kothnoor Dinne            1\n",
       "JP Nagar 7th Phase,       1\n",
       "Sampigehalli              1\n",
       "Kalasipalya               1\n",
       "Name: location, Length: 1196, dtype: int64"
      ]
     },
     "execution_count": 33,
     "metadata": {},
     "output_type": "execute_result"
    }
   ],
   "source": [
    "data.location.value_counts()"
   ]
  },
  {
   "cell_type": "code",
   "execution_count": 34,
   "metadata": {
    "collapsed": false
   },
   "outputs": [],
   "source": [
    "location_value_less_than_10 = data.location.value_counts()[data.location.value_counts() < 10]"
   ]
  },
  {
   "cell_type": "code",
   "execution_count": 35,
   "metadata": {
    "collapsed": false
   },
   "outputs": [],
   "source": [
    "data['location'] = data['location'].apply(lambda x: 'other' if x in location_value_less_than_10 else x)"
   ]
  },
  {
   "cell_type": "code",
   "execution_count": 36,
   "metadata": {
    "collapsed": false
   },
   "outputs": [
    {
     "data": {
      "text/plain": [
       "(10656, 10)"
      ]
     },
     "execution_count": 36,
     "metadata": {},
     "output_type": "execute_result"
    }
   ],
   "source": [
    "data.shape"
   ]
  },
  {
   "cell_type": "code",
   "execution_count": 37,
   "metadata": {
    "collapsed": false
   },
   "outputs": [],
   "source": [
    "df = pd.DataFrame(data['location'].unique())"
   ]
  },
  {
   "cell_type": "code",
   "execution_count": 38,
   "metadata": {
    "collapsed": false
   },
   "outputs": [],
   "source": [
    "df[0]\n",
    "df['Unique_Locations'] = df[0]\n",
    "df.drop(0,axis=1,inplace=True)"
   ]
  },
  {
   "cell_type": "code",
   "execution_count": 39,
   "metadata": {
    "collapsed": false
   },
   "outputs": [
    {
     "data": {
      "text/html": [
       "<div>\n",
       "<style scoped>\n",
       "    .dataframe tbody tr th:only-of-type {\n",
       "        vertical-align: middle;\n",
       "    }\n",
       "\n",
       "    .dataframe tbody tr th {\n",
       "        vertical-align: top;\n",
       "    }\n",
       "\n",
       "    .dataframe thead th {\n",
       "        text-align: right;\n",
       "    }\n",
       "</style>\n",
       "<table border=\"1\" class=\"dataframe\">\n",
       "  <thead>\n",
       "    <tr style=\"text-align: right;\">\n",
       "      <th></th>\n",
       "      <th>Unique_Locations</th>\n",
       "    </tr>\n",
       "  </thead>\n",
       "  <tbody>\n",
       "    <tr>\n",
       "      <th>0</th>\n",
       "      <td>Abbigere</td>\n",
       "    </tr>\n",
       "    <tr>\n",
       "      <th>1</th>\n",
       "      <td>Mallasandra</td>\n",
       "    </tr>\n",
       "    <tr>\n",
       "      <th>2</th>\n",
       "      <td>Sector 2 HSR Layout</td>\n",
       "    </tr>\n",
       "    <tr>\n",
       "      <th>3</th>\n",
       "      <td>Hoodi</td>\n",
       "    </tr>\n",
       "    <tr>\n",
       "      <th>4</th>\n",
       "      <td>other</td>\n",
       "    </tr>\n",
       "  </tbody>\n",
       "</table>\n",
       "</div>"
      ],
      "text/plain": [
       "      Unique_Locations\n",
       "0             Abbigere\n",
       "1          Mallasandra\n",
       "2  Sector 2 HSR Layout\n",
       "3                Hoodi\n",
       "4                other"
      ]
     },
     "execution_count": 39,
     "metadata": {},
     "output_type": "execute_result"
    }
   ],
   "source": [
    "df.head()"
   ]
  },
  {
   "cell_type": "code",
   "execution_count": 40,
   "metadata": {
    "collapsed": false
   },
   "outputs": [],
   "source": [
    "from sklearn.preprocessing import OneHotEncoder\n",
    "ohe_encoder_location = OneHotEncoder(sparse=False,handle_unknown='ignore')\n",
    "ohe_area = OneHotEncoder(sparse=False,handle_unknown='ignore')"
   ]
  },
  {
   "cell_type": "code",
   "execution_count": 41,
   "metadata": {
    "collapsed": false
   },
   "outputs": [],
   "source": [
    "location_transform = pd.DataFrame(ohe_encoder_location.fit_transform(data[['location']]), columns=list(ohe_encoder_location.categories_[0]))"
   ]
  },
  {
   "cell_type": "code",
   "execution_count": 42,
   "metadata": {
    "collapsed": false
   },
   "outputs": [
    {
     "data": {
      "text/plain": [
       "(10656, 221)"
      ]
     },
     "execution_count": 42,
     "metadata": {},
     "output_type": "execute_result"
    }
   ],
   "source": [
    "location_transform.shape"
   ]
  },
  {
   "cell_type": "code",
   "execution_count": 43,
   "metadata": {
    "collapsed": false
   },
   "outputs": [
    {
     "data": {
      "text/plain": [
       "[' Devarachikkanahalli',\n",
       " '1st Block Jayanagar',\n",
       " '1st Phase JP Nagar',\n",
       " '2nd Stage Nagarbhavi',\n",
       " '5th Phase JP Nagar',\n",
       " '6th Phase JP Nagar',\n",
       " '7th Phase JP Nagar',\n",
       " '8th Phase JP Nagar',\n",
       " '9th Phase JP Nagar',\n",
       " 'AECS Layout',\n",
       " 'Abbigere',\n",
       " 'Akshaya Nagar',\n",
       " 'Ambalipura',\n",
       " 'Ambedkar Nagar',\n",
       " 'Amruthahalli',\n",
       " 'Anandapura',\n",
       " 'Ananth Nagar',\n",
       " 'Anekal',\n",
       " 'Ardendale',\n",
       " 'Arekere',\n",
       " 'Attibele',\n",
       " 'BEML Layout',\n",
       " 'BTM 2nd Stage',\n",
       " 'BTM Layout',\n",
       " 'Babusapalaya',\n",
       " 'Badavala Nagar',\n",
       " 'Balagere',\n",
       " 'Banashankari',\n",
       " 'Banashankari Stage II',\n",
       " 'Banashankari Stage III',\n",
       " 'Banashankari Stage V',\n",
       " 'Banashankari Stage VI',\n",
       " 'Banaswadi',\n",
       " 'Bannerghatta',\n",
       " 'Bannerghatta Road',\n",
       " 'Basavangudi',\n",
       " 'Basaveshwara Nagar',\n",
       " 'Battarahalli',\n",
       " 'Begur',\n",
       " 'Begur Road',\n",
       " 'Bellandur',\n",
       " 'Benson Town',\n",
       " 'Bhoganhalli',\n",
       " 'Billekahalli',\n",
       " 'Binny Pete',\n",
       " 'Bisuvanahalli',\n",
       " 'Bommanahalli',\n",
       " 'Bommasandra',\n",
       " 'Bommasandra Industrial Area',\n",
       " 'Bommenahalli',\n",
       " 'Brookefield',\n",
       " 'Budigere',\n",
       " 'CV Raman Nagar',\n",
       " 'Chamrajpet',\n",
       " 'Chandapura',\n",
       " 'Channasandra',\n",
       " 'Chikka Tirupathi',\n",
       " 'Chikkabanavar',\n",
       " 'Chikkalasandra',\n",
       " 'Choodasandra',\n",
       " 'Cooke Town',\n",
       " 'Cunningham Road',\n",
       " 'Dairy Circle',\n",
       " 'Dasanapura',\n",
       " 'Dasarahalli',\n",
       " 'Devanahalli',\n",
       " 'Dodda Nekkundi',\n",
       " 'Doddakallasandra',\n",
       " 'Doddathoguru',\n",
       " 'Domlur',\n",
       " 'EPIP Zone',\n",
       " 'Electronic City',\n",
       " 'Electronic City Phase II',\n",
       " 'Electronics City Phase 1',\n",
       " 'Frazer Town',\n",
       " 'Garudachar Palya',\n",
       " 'Giri Nagar',\n",
       " 'Gollarapalya Hosahalli',\n",
       " 'Gottigere',\n",
       " 'Green Glen Layout',\n",
       " 'Gubbalala',\n",
       " 'Gunjur',\n",
       " 'HBR Layout',\n",
       " 'HRBR Layout',\n",
       " 'HSR Layout',\n",
       " 'Haralur Road',\n",
       " 'Harlur',\n",
       " 'Hebbal',\n",
       " 'Hebbal Kempapura',\n",
       " 'Hegde Nagar',\n",
       " 'Hennur',\n",
       " 'Hennur Road',\n",
       " 'Hoodi',\n",
       " 'Horamavu Agara',\n",
       " 'Horamavu Banaswadi',\n",
       " 'Hormavu',\n",
       " 'Hosa Road',\n",
       " 'Hosakerehalli',\n",
       " 'Hoskote',\n",
       " 'Hosur Road',\n",
       " 'Hulimavu',\n",
       " 'ISRO Layout',\n",
       " 'Iblur Village',\n",
       " 'Indira Nagar',\n",
       " 'JP Nagar',\n",
       " 'Jakkur',\n",
       " 'Jalahalli',\n",
       " 'Jalahalli East',\n",
       " 'Jigani',\n",
       " 'Judicial Layout',\n",
       " 'KR Puram',\n",
       " 'Kadubeesanahalli',\n",
       " 'Kadugodi',\n",
       " 'Kaggadasapura',\n",
       " 'Kaggalipura',\n",
       " 'Kaikondrahalli',\n",
       " 'Kalena Agrahara',\n",
       " 'Kalyan nagar',\n",
       " 'Kambipura',\n",
       " 'Kammanahalli',\n",
       " 'Kammasandra',\n",
       " 'Kanakapura',\n",
       " 'Kanakpura Road',\n",
       " 'Kannamangala',\n",
       " 'Karuna Nagar',\n",
       " 'Kasavanhalli',\n",
       " 'Kasturi Nagar',\n",
       " 'Kathriguppe',\n",
       " 'Kaval Byrasandra',\n",
       " 'Kenchenahalli',\n",
       " 'Kengeri',\n",
       " 'Kengeri Satellite Town',\n",
       " 'Kereguddadahalli',\n",
       " 'Kodichikkanahalli',\n",
       " 'Kodigehaali',\n",
       " 'Kodigehalli',\n",
       " 'Kodihalli',\n",
       " 'Kogilu',\n",
       " 'Konanakunte',\n",
       " 'Koramangala',\n",
       " 'Kothannur',\n",
       " 'Kothanur',\n",
       " 'Kudlu',\n",
       " 'Kudlu Gate',\n",
       " 'Kumaraswami Layout',\n",
       " 'Kundalahalli',\n",
       " 'Laggere',\n",
       " 'Lakshminarayana Pura',\n",
       " 'Lingadheeranahalli',\n",
       " 'Magadi Road',\n",
       " 'Mahadevpura',\n",
       " 'Mahalakshmi Layout',\n",
       " 'Mallasandra',\n",
       " 'Malleshpalya',\n",
       " 'Malleshwaram',\n",
       " 'Marathahalli',\n",
       " 'Margondanahalli',\n",
       " 'Munnekollal',\n",
       " 'Murugeshpalya',\n",
       " 'Mysore Road',\n",
       " 'NGR Layout',\n",
       " 'NRI Layout',\n",
       " 'Nagarbhavi',\n",
       " 'Nagasandra',\n",
       " 'Nagavara',\n",
       " 'Nagavarapalya',\n",
       " 'Narayanapura',\n",
       " 'OMBR Layout',\n",
       " 'Old Airport Road',\n",
       " 'Old Madras Road',\n",
       " 'Padmanabhanagar',\n",
       " 'Pai Layout',\n",
       " 'Panathur',\n",
       " 'Parappana Agrahara',\n",
       " 'Pattandur Agrahara',\n",
       " 'Poorna Pragna Layout',\n",
       " 'Prithvi Layout',\n",
       " 'R.T. Nagar',\n",
       " 'Rachenahalli',\n",
       " 'Raja Rajeshwari Nagar',\n",
       " 'Rajaji Nagar',\n",
       " 'Ramagondanahalli',\n",
       " 'Ramamurthy Nagar',\n",
       " 'Rayasandra',\n",
       " 'Sahakara Nagar',\n",
       " 'Sanjay nagar',\n",
       " 'Sarakki Nagar',\n",
       " 'Sarjapur',\n",
       " 'Sarjapur  Road',\n",
       " 'Sarjapura - Attibele Road',\n",
       " 'Sector 2 HSR Layout',\n",
       " 'Seegehalli',\n",
       " 'Shampura',\n",
       " 'Shivaji Nagar',\n",
       " 'Singasandra',\n",
       " 'Somasundara Palya',\n",
       " 'Sonnenahalli',\n",
       " 'Subramanyapura',\n",
       " 'TC Palaya',\n",
       " 'Talaghattapura',\n",
       " 'Thanisandra',\n",
       " 'Thigalarapalya',\n",
       " 'Thubarahalli',\n",
       " 'Tumkur Road',\n",
       " 'Ulsoor',\n",
       " 'Uttarahalli',\n",
       " 'Varthur',\n",
       " 'Varthur Road',\n",
       " 'Vasanthapura',\n",
       " 'Vidyaranyapura',\n",
       " 'Vijayanagar',\n",
       " 'Vishveshwarya Layout',\n",
       " 'Vishwapriya Layout',\n",
       " 'Vittasandra',\n",
       " 'Whitefield',\n",
       " 'Yelachenahalli',\n",
       " 'Yelahanka',\n",
       " 'Yelahanka New Town',\n",
       " 'Yelenahalli',\n",
       " 'Yeshwanthpur',\n",
       " 'other']"
      ]
     },
     "execution_count": 43,
     "metadata": {},
     "output_type": "execute_result"
    }
   ],
   "source": [
    "list(ohe_encoder_location.categories_[0])"
   ]
  },
  {
   "cell_type": "code",
   "execution_count": 44,
   "metadata": {
    "collapsed": false
   },
   "outputs": [
    {
     "data": {
      "text/plain": [
       "221"
      ]
     },
     "execution_count": 44,
     "metadata": {},
     "output_type": "execute_result"
    }
   ],
   "source": [
    "len(list(ohe_encoder_location.categories_[0]))"
   ]
  },
  {
   "cell_type": "code",
   "execution_count": 45,
   "metadata": {
    "collapsed": false
   },
   "outputs": [],
   "source": [
    "data = pd.concat([data, location_transform], axis=1)"
   ]
  },
  {
   "cell_type": "code",
   "execution_count": 46,
   "metadata": {
    "collapsed": false
   },
   "outputs": [
    {
     "data": {
      "text/plain": [
       "(10656, 231)"
      ]
     },
     "execution_count": 46,
     "metadata": {},
     "output_type": "execute_result"
    }
   ],
   "source": [
    "data.shape"
   ]
  },
  {
   "cell_type": "code",
   "execution_count": 47,
   "metadata": {
    "collapsed": false
   },
   "outputs": [
    {
     "data": {
      "text/plain": [
       "0"
      ]
     },
     "execution_count": 47,
     "metadata": {},
     "output_type": "execute_result"
    }
   ],
   "source": [
    "data.location.isna().sum()"
   ]
  },
  {
   "cell_type": "code",
   "execution_count": 48,
   "metadata": {
    "collapsed": false
   },
   "outputs": [],
   "source": [
    "area_type_transform = pd.DataFrame(ohe_area.fit_transform(data[['area_type']]), columns=list(ohe_area.categories_[0]))"
   ]
  },
  {
   "cell_type": "code",
   "execution_count": 49,
   "metadata": {
    "collapsed": false
   },
   "outputs": [
    {
     "data": {
      "text/html": [
       "<div>\n",
       "<style scoped>\n",
       "    .dataframe tbody tr th:only-of-type {\n",
       "        vertical-align: middle;\n",
       "    }\n",
       "\n",
       "    .dataframe tbody tr th {\n",
       "        vertical-align: top;\n",
       "    }\n",
       "\n",
       "    .dataframe thead th {\n",
       "        text-align: right;\n",
       "    }\n",
       "</style>\n",
       "<table border=\"1\" class=\"dataframe\">\n",
       "  <thead>\n",
       "    <tr style=\"text-align: right;\">\n",
       "      <th></th>\n",
       "      <th>Built-up  Area</th>\n",
       "      <th>Carpet  Area</th>\n",
       "      <th>Plot  Area</th>\n",
       "      <th>Super built-up  Area</th>\n",
       "    </tr>\n",
       "  </thead>\n",
       "  <tbody>\n",
       "    <tr>\n",
       "      <th>0</th>\n",
       "      <td>0.0</td>\n",
       "      <td>0.0</td>\n",
       "      <td>0.0</td>\n",
       "      <td>1.0</td>\n",
       "    </tr>\n",
       "    <tr>\n",
       "      <th>1</th>\n",
       "      <td>0.0</td>\n",
       "      <td>0.0</td>\n",
       "      <td>0.0</td>\n",
       "      <td>1.0</td>\n",
       "    </tr>\n",
       "    <tr>\n",
       "      <th>2</th>\n",
       "      <td>0.0</td>\n",
       "      <td>0.0</td>\n",
       "      <td>0.0</td>\n",
       "      <td>1.0</td>\n",
       "    </tr>\n",
       "    <tr>\n",
       "      <th>3</th>\n",
       "      <td>0.0</td>\n",
       "      <td>0.0</td>\n",
       "      <td>0.0</td>\n",
       "      <td>1.0</td>\n",
       "    </tr>\n",
       "    <tr>\n",
       "      <th>4</th>\n",
       "      <td>0.0</td>\n",
       "      <td>0.0</td>\n",
       "      <td>1.0</td>\n",
       "      <td>0.0</td>\n",
       "    </tr>\n",
       "    <tr>\n",
       "      <th>...</th>\n",
       "      <td>...</td>\n",
       "      <td>...</td>\n",
       "      <td>...</td>\n",
       "      <td>...</td>\n",
       "    </tr>\n",
       "    <tr>\n",
       "      <th>10651</th>\n",
       "      <td>0.0</td>\n",
       "      <td>0.0</td>\n",
       "      <td>1.0</td>\n",
       "      <td>0.0</td>\n",
       "    </tr>\n",
       "    <tr>\n",
       "      <th>10652</th>\n",
       "      <td>0.0</td>\n",
       "      <td>0.0</td>\n",
       "      <td>1.0</td>\n",
       "      <td>0.0</td>\n",
       "    </tr>\n",
       "    <tr>\n",
       "      <th>10653</th>\n",
       "      <td>1.0</td>\n",
       "      <td>0.0</td>\n",
       "      <td>0.0</td>\n",
       "      <td>0.0</td>\n",
       "    </tr>\n",
       "    <tr>\n",
       "      <th>10654</th>\n",
       "      <td>1.0</td>\n",
       "      <td>0.0</td>\n",
       "      <td>0.0</td>\n",
       "      <td>0.0</td>\n",
       "    </tr>\n",
       "    <tr>\n",
       "      <th>10655</th>\n",
       "      <td>0.0</td>\n",
       "      <td>0.0</td>\n",
       "      <td>0.0</td>\n",
       "      <td>1.0</td>\n",
       "    </tr>\n",
       "  </tbody>\n",
       "</table>\n",
       "<p>10656 rows × 4 columns</p>\n",
       "</div>"
      ],
      "text/plain": [
       "       Built-up  Area  Carpet  Area  Plot  Area  Super built-up  Area\n",
       "0                 0.0           0.0         0.0                   1.0\n",
       "1                 0.0           0.0         0.0                   1.0\n",
       "2                 0.0           0.0         0.0                   1.0\n",
       "3                 0.0           0.0         0.0                   1.0\n",
       "4                 0.0           0.0         1.0                   0.0\n",
       "...               ...           ...         ...                   ...\n",
       "10651             0.0           0.0         1.0                   0.0\n",
       "10652             0.0           0.0         1.0                   0.0\n",
       "10653             1.0           0.0         0.0                   0.0\n",
       "10654             1.0           0.0         0.0                   0.0\n",
       "10655             0.0           0.0         0.0                   1.0\n",
       "\n",
       "[10656 rows x 4 columns]"
      ]
     },
     "execution_count": 49,
     "metadata": {},
     "output_type": "execute_result"
    }
   ],
   "source": [
    "area_type_transform"
   ]
  },
  {
   "cell_type": "code",
   "execution_count": 50,
   "metadata": {
    "collapsed": false
   },
   "outputs": [],
   "source": [
    "data = pd.concat([data, area_type_transform], axis=1)"
   ]
  },
  {
   "cell_type": "code",
   "execution_count": 51,
   "metadata": {
    "collapsed": false
   },
   "outputs": [
    {
     "data": {
      "text/plain": [
       "(10656, 235)"
      ]
     },
     "execution_count": 51,
     "metadata": {},
     "output_type": "execute_result"
    }
   ],
   "source": [
    "data.shape"
   ]
  },
  {
   "cell_type": "code",
   "execution_count": 52,
   "metadata": {
    "collapsed": false
   },
   "outputs": [
    {
     "data": {
      "text/html": [
       "<div>\n",
       "<style scoped>\n",
       "    .dataframe tbody tr th:only-of-type {\n",
       "        vertical-align: middle;\n",
       "    }\n",
       "\n",
       "    .dataframe tbody tr th {\n",
       "        vertical-align: top;\n",
       "    }\n",
       "\n",
       "    .dataframe thead th {\n",
       "        text-align: right;\n",
       "    }\n",
       "</style>\n",
       "<table border=\"1\" class=\"dataframe\">\n",
       "  <thead>\n",
       "    <tr style=\"text-align: right;\">\n",
       "      <th></th>\n",
       "      <th>house_id</th>\n",
       "      <th>area_type</th>\n",
       "      <th>availability</th>\n",
       "      <th>location</th>\n",
       "      <th>size</th>\n",
       "      <th>total_sqft</th>\n",
       "      <th>bath</th>\n",
       "      <th>balcony</th>\n",
       "      <th>price</th>\n",
       "      <th>BHK</th>\n",
       "      <th>...</th>\n",
       "      <th>Yelachenahalli</th>\n",
       "      <th>Yelahanka</th>\n",
       "      <th>Yelahanka New Town</th>\n",
       "      <th>Yelenahalli</th>\n",
       "      <th>Yeshwanthpur</th>\n",
       "      <th>other</th>\n",
       "      <th>Built-up  Area</th>\n",
       "      <th>Carpet  Area</th>\n",
       "      <th>Plot  Area</th>\n",
       "      <th>Super built-up  Area</th>\n",
       "    </tr>\n",
       "  </thead>\n",
       "  <tbody>\n",
       "    <tr>\n",
       "      <th>0</th>\n",
       "      <td>house_9442</td>\n",
       "      <td>Super built-up  Area</td>\n",
       "      <td>1</td>\n",
       "      <td>Abbigere</td>\n",
       "      <td>2 BHK</td>\n",
       "      <td>795.0</td>\n",
       "      <td>2.0</td>\n",
       "      <td>1.0</td>\n",
       "      <td>32.54</td>\n",
       "      <td>2.0</td>\n",
       "      <td>...</td>\n",
       "      <td>0.0</td>\n",
       "      <td>0.0</td>\n",
       "      <td>0.0</td>\n",
       "      <td>0.0</td>\n",
       "      <td>0.0</td>\n",
       "      <td>0.0</td>\n",
       "      <td>0.0</td>\n",
       "      <td>0.0</td>\n",
       "      <td>0.0</td>\n",
       "      <td>1.0</td>\n",
       "    </tr>\n",
       "    <tr>\n",
       "      <th>1</th>\n",
       "      <td>house_2578</td>\n",
       "      <td>Super built-up  Area</td>\n",
       "      <td>1</td>\n",
       "      <td>Mallasandra</td>\n",
       "      <td>2 BHK</td>\n",
       "      <td>1340.0</td>\n",
       "      <td>2.0</td>\n",
       "      <td>2.0</td>\n",
       "      <td>61.00</td>\n",
       "      <td>2.0</td>\n",
       "      <td>...</td>\n",
       "      <td>0.0</td>\n",
       "      <td>0.0</td>\n",
       "      <td>0.0</td>\n",
       "      <td>0.0</td>\n",
       "      <td>0.0</td>\n",
       "      <td>0.0</td>\n",
       "      <td>0.0</td>\n",
       "      <td>0.0</td>\n",
       "      <td>0.0</td>\n",
       "      <td>1.0</td>\n",
       "    </tr>\n",
       "  </tbody>\n",
       "</table>\n",
       "<p>2 rows × 235 columns</p>\n",
       "</div>"
      ],
      "text/plain": [
       "     house_id             area_type  availability     location   size  \\\n",
       "0  house_9442  Super built-up  Area             1     Abbigere  2 BHK   \n",
       "1  house_2578  Super built-up  Area             1  Mallasandra  2 BHK   \n",
       "\n",
       "   total_sqft  bath  balcony  price  BHK  ...  Yelachenahalli  Yelahanka  \\\n",
       "0       795.0   2.0      1.0  32.54  2.0  ...             0.0        0.0   \n",
       "1      1340.0   2.0      2.0  61.00  2.0  ...             0.0        0.0   \n",
       "\n",
       "   Yelahanka New Town  Yelenahalli  Yeshwanthpur  other  Built-up  Area  \\\n",
       "0                 0.0          0.0           0.0    0.0             0.0   \n",
       "1                 0.0          0.0           0.0    0.0             0.0   \n",
       "\n",
       "   Carpet  Area  Plot  Area  Super built-up  Area  \n",
       "0           0.0         0.0                   1.0  \n",
       "1           0.0         0.0                   1.0  \n",
       "\n",
       "[2 rows x 235 columns]"
      ]
     },
     "execution_count": 52,
     "metadata": {},
     "output_type": "execute_result"
    }
   ],
   "source": [
    "data.head(2)"
   ]
  },
  {
   "cell_type": "code",
   "execution_count": 53,
   "metadata": {
    "collapsed": false
   },
   "outputs": [],
   "source": [
    "data.drop('size',axis=1,inplace=True)"
   ]
  },
  {
   "cell_type": "code",
   "execution_count": 54,
   "metadata": {
    "collapsed": false
   },
   "outputs": [],
   "source": [
    "data['price_per_sqft'] = (data['price'] * 100000) / data['total_sqft']"
   ]
  },
  {
   "cell_type": "code",
   "execution_count": 55,
   "metadata": {
    "collapsed": false
   },
   "outputs": [
    {
     "data": {
      "text/plain": [
       "availability            0.031507\n",
       "total_sqft              0.562314\n",
       "bath                    0.457050\n",
       "balcony                 0.129154\n",
       "price                   1.000000\n",
       "                          ...   \n",
       "Built-up  Area         -0.029426\n",
       "Carpet  Area           -0.013515\n",
       "Plot  Area              0.281201\n",
       "Super built-up  Area   -0.187289\n",
       "price_per_sqft          0.025446\n",
       "Name: price, Length: 232, dtype: float64"
      ]
     },
     "execution_count": 55,
     "metadata": {},
     "output_type": "execute_result"
    }
   ],
   "source": [
    "corr = data.corr()\n",
    "corr['price']"
   ]
  },
  {
   "cell_type": "markdown",
   "metadata": {
    "collapsed": false
   },
   "source": [
    "Outliers Detection"
   ]
  },
  {
   "cell_type": "code",
   "execution_count": 56,
   "metadata": {
    "collapsed": false
   },
   "outputs": [
    {
     "data": {
      "text/html": [
       "<div>\n",
       "<style scoped>\n",
       "    .dataframe tbody tr th:only-of-type {\n",
       "        vertical-align: middle;\n",
       "    }\n",
       "\n",
       "    .dataframe tbody tr th {\n",
       "        vertical-align: top;\n",
       "    }\n",
       "\n",
       "    .dataframe thead th {\n",
       "        text-align: right;\n",
       "    }\n",
       "</style>\n",
       "<table border=\"1\" class=\"dataframe\">\n",
       "  <thead>\n",
       "    <tr style=\"text-align: right;\">\n",
       "      <th></th>\n",
       "      <th>availability</th>\n",
       "      <th>total_sqft</th>\n",
       "      <th>bath</th>\n",
       "      <th>balcony</th>\n",
       "      <th>price</th>\n",
       "      <th>BHK</th>\n",
       "      <th>Devarachikkanahalli</th>\n",
       "      <th>1st Block Jayanagar</th>\n",
       "      <th>1st Phase JP Nagar</th>\n",
       "      <th>2nd Stage Nagarbhavi</th>\n",
       "      <th>...</th>\n",
       "      <th>Yelahanka</th>\n",
       "      <th>Yelahanka New Town</th>\n",
       "      <th>Yelenahalli</th>\n",
       "      <th>Yeshwanthpur</th>\n",
       "      <th>other</th>\n",
       "      <th>Built-up  Area</th>\n",
       "      <th>Carpet  Area</th>\n",
       "      <th>Plot  Area</th>\n",
       "      <th>Super built-up  Area</th>\n",
       "      <th>price_per_sqft</th>\n",
       "    </tr>\n",
       "  </thead>\n",
       "  <tbody>\n",
       "    <tr>\n",
       "      <th>count</th>\n",
       "      <td>10656.000000</td>\n",
       "      <td>10656.000000</td>\n",
       "      <td>10656.000000</td>\n",
       "      <td>10656.000000</td>\n",
       "      <td>10656.000000</td>\n",
       "      <td>10656.000000</td>\n",
       "      <td>10656.000000</td>\n",
       "      <td>10656.000000</td>\n",
       "      <td>10656.000000</td>\n",
       "      <td>10656.000000</td>\n",
       "      <td>...</td>\n",
       "      <td>10656.000000</td>\n",
       "      <td>10656.000000</td>\n",
       "      <td>10656.000000</td>\n",
       "      <td>10656.000000</td>\n",
       "      <td>10656.000000</td>\n",
       "      <td>10656.000000</td>\n",
       "      <td>10656.000000</td>\n",
       "      <td>10656.000000</td>\n",
       "      <td>10656.000000</td>\n",
       "      <td>1.065600e+04</td>\n",
       "    </tr>\n",
       "    <tr>\n",
       "      <th>mean</th>\n",
       "      <td>0.793074</td>\n",
       "      <td>1562.774237</td>\n",
       "      <td>2.691348</td>\n",
       "      <td>1.607451</td>\n",
       "      <td>112.617980</td>\n",
       "      <td>2.806025</td>\n",
       "      <td>0.000938</td>\n",
       "      <td>0.001032</td>\n",
       "      <td>0.001877</td>\n",
       "      <td>0.001971</td>\n",
       "      <td>...</td>\n",
       "      <td>0.016235</td>\n",
       "      <td>0.002909</td>\n",
       "      <td>0.001126</td>\n",
       "      <td>0.006381</td>\n",
       "      <td>0.233202</td>\n",
       "      <td>0.180743</td>\n",
       "      <td>0.006757</td>\n",
       "      <td>0.152778</td>\n",
       "      <td>0.659722</td>\n",
       "      <td>8.221334e+03</td>\n",
       "    </tr>\n",
       "    <tr>\n",
       "      <th>std</th>\n",
       "      <td>0.405121</td>\n",
       "      <td>1284.408163</td>\n",
       "      <td>1.335079</td>\n",
       "      <td>0.804315</td>\n",
       "      <td>142.661727</td>\n",
       "      <td>1.301843</td>\n",
       "      <td>0.030621</td>\n",
       "      <td>0.032114</td>\n",
       "      <td>0.043284</td>\n",
       "      <td>0.044351</td>\n",
       "      <td>...</td>\n",
       "      <td>0.126384</td>\n",
       "      <td>0.053861</td>\n",
       "      <td>0.033540</td>\n",
       "      <td>0.079632</td>\n",
       "      <td>0.422890</td>\n",
       "      <td>0.384823</td>\n",
       "      <td>0.081925</td>\n",
       "      <td>0.359790</td>\n",
       "      <td>0.473825</td>\n",
       "      <td>1.187561e+05</td>\n",
       "    </tr>\n",
       "    <tr>\n",
       "      <th>min</th>\n",
       "      <td>0.000000</td>\n",
       "      <td>1.000000</td>\n",
       "      <td>1.000000</td>\n",
       "      <td>0.000000</td>\n",
       "      <td>8.440000</td>\n",
       "      <td>1.000000</td>\n",
       "      <td>0.000000</td>\n",
       "      <td>0.000000</td>\n",
       "      <td>0.000000</td>\n",
       "      <td>0.000000</td>\n",
       "      <td>...</td>\n",
       "      <td>0.000000</td>\n",
       "      <td>0.000000</td>\n",
       "      <td>0.000000</td>\n",
       "      <td>0.000000</td>\n",
       "      <td>0.000000</td>\n",
       "      <td>0.000000</td>\n",
       "      <td>0.000000</td>\n",
       "      <td>0.000000</td>\n",
       "      <td>0.000000</td>\n",
       "      <td>2.678298e+02</td>\n",
       "    </tr>\n",
       "    <tr>\n",
       "      <th>25%</th>\n",
       "      <td>1.000000</td>\n",
       "      <td>1100.000000</td>\n",
       "      <td>2.000000</td>\n",
       "      <td>1.000000</td>\n",
       "      <td>50.000000</td>\n",
       "      <td>2.000000</td>\n",
       "      <td>0.000000</td>\n",
       "      <td>0.000000</td>\n",
       "      <td>0.000000</td>\n",
       "      <td>0.000000</td>\n",
       "      <td>...</td>\n",
       "      <td>0.000000</td>\n",
       "      <td>0.000000</td>\n",
       "      <td>0.000000</td>\n",
       "      <td>0.000000</td>\n",
       "      <td>0.000000</td>\n",
       "      <td>0.000000</td>\n",
       "      <td>0.000000</td>\n",
       "      <td>0.000000</td>\n",
       "      <td>0.000000</td>\n",
       "      <td>4.272562e+03</td>\n",
       "    </tr>\n",
       "    <tr>\n",
       "      <th>50%</th>\n",
       "      <td>1.000000</td>\n",
       "      <td>1280.000000</td>\n",
       "      <td>2.000000</td>\n",
       "      <td>2.000000</td>\n",
       "      <td>72.000000</td>\n",
       "      <td>3.000000</td>\n",
       "      <td>0.000000</td>\n",
       "      <td>0.000000</td>\n",
       "      <td>0.000000</td>\n",
       "      <td>0.000000</td>\n",
       "      <td>...</td>\n",
       "      <td>0.000000</td>\n",
       "      <td>0.000000</td>\n",
       "      <td>0.000000</td>\n",
       "      <td>0.000000</td>\n",
       "      <td>0.000000</td>\n",
       "      <td>0.000000</td>\n",
       "      <td>0.000000</td>\n",
       "      <td>0.000000</td>\n",
       "      <td>1.000000</td>\n",
       "      <td>5.448497e+03</td>\n",
       "    </tr>\n",
       "    <tr>\n",
       "      <th>75%</th>\n",
       "      <td>1.000000</td>\n",
       "      <td>1683.000000</td>\n",
       "      <td>3.000000</td>\n",
       "      <td>2.000000</td>\n",
       "      <td>120.000000</td>\n",
       "      <td>3.000000</td>\n",
       "      <td>0.000000</td>\n",
       "      <td>0.000000</td>\n",
       "      <td>0.000000</td>\n",
       "      <td>0.000000</td>\n",
       "      <td>...</td>\n",
       "      <td>0.000000</td>\n",
       "      <td>0.000000</td>\n",
       "      <td>0.000000</td>\n",
       "      <td>0.000000</td>\n",
       "      <td>0.000000</td>\n",
       "      <td>0.000000</td>\n",
       "      <td>0.000000</td>\n",
       "      <td>0.000000</td>\n",
       "      <td>1.000000</td>\n",
       "      <td>7.325783e+03</td>\n",
       "    </tr>\n",
       "    <tr>\n",
       "      <th>max</th>\n",
       "      <td>1.000000</td>\n",
       "      <td>52272.000000</td>\n",
       "      <td>40.000000</td>\n",
       "      <td>3.000000</td>\n",
       "      <td>2912.000000</td>\n",
       "      <td>43.000000</td>\n",
       "      <td>1.000000</td>\n",
       "      <td>1.000000</td>\n",
       "      <td>1.000000</td>\n",
       "      <td>1.000000</td>\n",
       "      <td>...</td>\n",
       "      <td>1.000000</td>\n",
       "      <td>1.000000</td>\n",
       "      <td>1.000000</td>\n",
       "      <td>1.000000</td>\n",
       "      <td>1.000000</td>\n",
       "      <td>1.000000</td>\n",
       "      <td>1.000000</td>\n",
       "      <td>1.000000</td>\n",
       "      <td>1.000000</td>\n",
       "      <td>1.200000e+07</td>\n",
       "    </tr>\n",
       "  </tbody>\n",
       "</table>\n",
       "<p>8 rows × 232 columns</p>\n",
       "</div>"
      ],
      "text/plain": [
       "       availability    total_sqft          bath       balcony         price  \\\n",
       "count  10656.000000  10656.000000  10656.000000  10656.000000  10656.000000   \n",
       "mean       0.793074   1562.774237      2.691348      1.607451    112.617980   \n",
       "std        0.405121   1284.408163      1.335079      0.804315    142.661727   \n",
       "min        0.000000      1.000000      1.000000      0.000000      8.440000   \n",
       "25%        1.000000   1100.000000      2.000000      1.000000     50.000000   \n",
       "50%        1.000000   1280.000000      2.000000      2.000000     72.000000   \n",
       "75%        1.000000   1683.000000      3.000000      2.000000    120.000000   \n",
       "max        1.000000  52272.000000     40.000000      3.000000   2912.000000   \n",
       "\n",
       "                BHK   Devarachikkanahalli  1st Block Jayanagar  \\\n",
       "count  10656.000000          10656.000000         10656.000000   \n",
       "mean       2.806025              0.000938             0.001032   \n",
       "std        1.301843              0.030621             0.032114   \n",
       "min        1.000000              0.000000             0.000000   \n",
       "25%        2.000000              0.000000             0.000000   \n",
       "50%        3.000000              0.000000             0.000000   \n",
       "75%        3.000000              0.000000             0.000000   \n",
       "max       43.000000              1.000000             1.000000   \n",
       "\n",
       "       1st Phase JP Nagar  2nd Stage Nagarbhavi  ...     Yelahanka  \\\n",
       "count        10656.000000          10656.000000  ...  10656.000000   \n",
       "mean             0.001877              0.001971  ...      0.016235   \n",
       "std              0.043284              0.044351  ...      0.126384   \n",
       "min              0.000000              0.000000  ...      0.000000   \n",
       "25%              0.000000              0.000000  ...      0.000000   \n",
       "50%              0.000000              0.000000  ...      0.000000   \n",
       "75%              0.000000              0.000000  ...      0.000000   \n",
       "max              1.000000              1.000000  ...      1.000000   \n",
       "\n",
       "       Yelahanka New Town   Yelenahalli  Yeshwanthpur         other  \\\n",
       "count        10656.000000  10656.000000  10656.000000  10656.000000   \n",
       "mean             0.002909      0.001126      0.006381      0.233202   \n",
       "std              0.053861      0.033540      0.079632      0.422890   \n",
       "min              0.000000      0.000000      0.000000      0.000000   \n",
       "25%              0.000000      0.000000      0.000000      0.000000   \n",
       "50%              0.000000      0.000000      0.000000      0.000000   \n",
       "75%              0.000000      0.000000      0.000000      0.000000   \n",
       "max              1.000000      1.000000      1.000000      1.000000   \n",
       "\n",
       "       Built-up  Area  Carpet  Area    Plot  Area  Super built-up  Area  \\\n",
       "count    10656.000000  10656.000000  10656.000000          10656.000000   \n",
       "mean         0.180743      0.006757      0.152778              0.659722   \n",
       "std          0.384823      0.081925      0.359790              0.473825   \n",
       "min          0.000000      0.000000      0.000000              0.000000   \n",
       "25%          0.000000      0.000000      0.000000              0.000000   \n",
       "50%          0.000000      0.000000      0.000000              1.000000   \n",
       "75%          0.000000      0.000000      0.000000              1.000000   \n",
       "max          1.000000      1.000000      1.000000              1.000000   \n",
       "\n",
       "       price_per_sqft  \n",
       "count    1.065600e+04  \n",
       "mean     8.221334e+03  \n",
       "std      1.187561e+05  \n",
       "min      2.678298e+02  \n",
       "25%      4.272562e+03  \n",
       "50%      5.448497e+03  \n",
       "75%      7.325783e+03  \n",
       "max      1.200000e+07  \n",
       "\n",
       "[8 rows x 232 columns]"
      ]
     },
     "execution_count": 56,
     "metadata": {},
     "output_type": "execute_result"
    }
   ],
   "source": [
    "data.describe()"
   ]
  },
  {
   "cell_type": "code",
   "execution_count": 57,
   "metadata": {
    "collapsed": false
   },
   "outputs": [
    {
     "data": {
      "text/plain": [
       "<AxesSubplot:>"
      ]
     },
     "execution_count": 57,
     "metadata": {},
     "output_type": "execute_result"
    },
    {
     "data": {
      "image/png": "[encoded data removed]",
      "text/plain": [
       "<Figure size 1152x432 with 1 Axes>"
      ]
     },
     "metadata": {
      "needs_background": "light"
     },
     "output_type": "display_data"
    }
   ],
   "source": [
    "plt.figure(figsize=(16,6))\n",
    "pd.cut(data['total_sqft'], bins= [0, 1000, 2000, 3000, 4000, 5000, 6000, 7000, 8000, 9000, 10000, np.inf], labels=[0, 1000, 2000, 3000, 4000, 5000, 6000, 7000, 8000, 9000, 10000]).hist()"
   ]
  },
  {
   "cell_type": "code",
   "execution_count": 58,
   "metadata": {
    "collapsed": false
   },
   "outputs": [],
   "source": [
    "#df2 = df1.loc[df1['total_sqft']<=4000]"
   ]
  },
  {
   "cell_type": "code",
   "execution_count": 59,
   "metadata": {
    "collapsed": false
   },
   "outputs": [],
   "source": [
    "#df3 = df2.loc[df2['Bedroom'] <= 9]"
   ]
  },
  {
   "cell_type": "code",
   "execution_count": 60,
   "metadata": {
    "collapsed": false
   },
   "outputs": [
    {
     "data": {
      "text/plain": [
       "<AxesSubplot:>"
      ]
     },
     "execution_count": 60,
     "metadata": {},
     "output_type": "execute_result"
    },
    {
     "data": {
      "image/png": "[encoded data removed]",
      "text/plain": [
       "<Figure size 432x288 with 1 Axes>"
      ]
     },
     "metadata": {
      "needs_background": "light"
     },
     "output_type": "display_data"
    }
   ],
   "source": [
    "pd.cut(data['BHK'], bins=[0, 2, 4, 6, 8, 10, np.inf], labels=[0, 2, 4, 6, 8, 10]).hist()"
   ]
  },
  {
   "cell_type": "code",
   "execution_count": 61,
   "metadata": {
    "collapsed": false
   },
   "outputs": [
    {
     "data": {
      "text/html": [
       "<div>\n",
       "<style scoped>\n",
       "    .dataframe tbody tr th:only-of-type {\n",
       "        vertical-align: middle;\n",
       "    }\n",
       "\n",
       "    .dataframe tbody tr th {\n",
       "        vertical-align: top;\n",
       "    }\n",
       "\n",
       "    .dataframe thead th {\n",
       "        text-align: right;\n",
       "    }\n",
       "</style>\n",
       "<table border=\"1\" class=\"dataframe\">\n",
       "  <thead>\n",
       "    <tr style=\"text-align: right;\">\n",
       "      <th></th>\n",
       "      <th>house_id</th>\n",
       "      <th>area_type</th>\n",
       "      <th>availability</th>\n",
       "      <th>location</th>\n",
       "      <th>total_sqft</th>\n",
       "      <th>bath</th>\n",
       "      <th>balcony</th>\n",
       "      <th>price</th>\n",
       "      <th>BHK</th>\n",
       "      <th>Devarachikkanahalli</th>\n",
       "      <th>...</th>\n",
       "      <th>Yelahanka</th>\n",
       "      <th>Yelahanka New Town</th>\n",
       "      <th>Yelenahalli</th>\n",
       "      <th>Yeshwanthpur</th>\n",
       "      <th>other</th>\n",
       "      <th>Built-up  Area</th>\n",
       "      <th>Carpet  Area</th>\n",
       "      <th>Plot  Area</th>\n",
       "      <th>Super built-up  Area</th>\n",
       "      <th>price_per_sqft</th>\n",
       "    </tr>\n",
       "  </thead>\n",
       "  <tbody>\n",
       "    <tr>\n",
       "      <th>7</th>\n",
       "      <td>house_3418</td>\n",
       "      <td>Plot  Area</td>\n",
       "      <td>1</td>\n",
       "      <td>Kumaraswami Layout</td>\n",
       "      <td>1270.0</td>\n",
       "      <td>4.0</td>\n",
       "      <td>1.0</td>\n",
       "      <td>128.0</td>\n",
       "      <td>5.0</td>\n",
       "      <td>0.0</td>\n",
       "      <td>...</td>\n",
       "      <td>0.0</td>\n",
       "      <td>0.0</td>\n",
       "      <td>0.0</td>\n",
       "      <td>0.0</td>\n",
       "      <td>0.0</td>\n",
       "      <td>0.0</td>\n",
       "      <td>0.0</td>\n",
       "      <td>1.0</td>\n",
       "      <td>0.0</td>\n",
       "      <td>10078.740157</td>\n",
       "    </tr>\n",
       "    <tr>\n",
       "      <th>39</th>\n",
       "      <td>house_3511</td>\n",
       "      <td>Plot  Area</td>\n",
       "      <td>1</td>\n",
       "      <td>Uttarahalli</td>\n",
       "      <td>1200.0</td>\n",
       "      <td>7.0</td>\n",
       "      <td>2.0</td>\n",
       "      <td>225.0</td>\n",
       "      <td>7.0</td>\n",
       "      <td>0.0</td>\n",
       "      <td>...</td>\n",
       "      <td>0.0</td>\n",
       "      <td>0.0</td>\n",
       "      <td>0.0</td>\n",
       "      <td>0.0</td>\n",
       "      <td>0.0</td>\n",
       "      <td>0.0</td>\n",
       "      <td>0.0</td>\n",
       "      <td>1.0</td>\n",
       "      <td>0.0</td>\n",
       "      <td>18750.000000</td>\n",
       "    </tr>\n",
       "    <tr>\n",
       "      <th>41</th>\n",
       "      <td>house_6505</td>\n",
       "      <td>Plot  Area</td>\n",
       "      <td>1</td>\n",
       "      <td>Yeshwanthpur</td>\n",
       "      <td>2400.0</td>\n",
       "      <td>6.0</td>\n",
       "      <td>2.0</td>\n",
       "      <td>270.0</td>\n",
       "      <td>9.0</td>\n",
       "      <td>0.0</td>\n",
       "      <td>...</td>\n",
       "      <td>0.0</td>\n",
       "      <td>0.0</td>\n",
       "      <td>0.0</td>\n",
       "      <td>1.0</td>\n",
       "      <td>0.0</td>\n",
       "      <td>0.0</td>\n",
       "      <td>0.0</td>\n",
       "      <td>1.0</td>\n",
       "      <td>0.0</td>\n",
       "      <td>11250.000000</td>\n",
       "    </tr>\n",
       "    <tr>\n",
       "      <th>57</th>\n",
       "      <td>house_11518</td>\n",
       "      <td>Plot  Area</td>\n",
       "      <td>1</td>\n",
       "      <td>Abbigere</td>\n",
       "      <td>1200.0</td>\n",
       "      <td>6.0</td>\n",
       "      <td>1.0</td>\n",
       "      <td>95.0</td>\n",
       "      <td>6.0</td>\n",
       "      <td>0.0</td>\n",
       "      <td>...</td>\n",
       "      <td>0.0</td>\n",
       "      <td>0.0</td>\n",
       "      <td>0.0</td>\n",
       "      <td>0.0</td>\n",
       "      <td>0.0</td>\n",
       "      <td>0.0</td>\n",
       "      <td>0.0</td>\n",
       "      <td>1.0</td>\n",
       "      <td>0.0</td>\n",
       "      <td>7916.666667</td>\n",
       "    </tr>\n",
       "    <tr>\n",
       "      <th>63</th>\n",
       "      <td>house_13217</td>\n",
       "      <td>Plot  Area</td>\n",
       "      <td>1</td>\n",
       "      <td>other</td>\n",
       "      <td>1200.0</td>\n",
       "      <td>3.0</td>\n",
       "      <td>2.0</td>\n",
       "      <td>125.0</td>\n",
       "      <td>6.0</td>\n",
       "      <td>0.0</td>\n",
       "      <td>...</td>\n",
       "      <td>0.0</td>\n",
       "      <td>0.0</td>\n",
       "      <td>0.0</td>\n",
       "      <td>0.0</td>\n",
       "      <td>1.0</td>\n",
       "      <td>0.0</td>\n",
       "      <td>0.0</td>\n",
       "      <td>1.0</td>\n",
       "      <td>0.0</td>\n",
       "      <td>10416.666667</td>\n",
       "    </tr>\n",
       "  </tbody>\n",
       "</table>\n",
       "<p>5 rows × 235 columns</p>\n",
       "</div>"
      ],
      "text/plain": [
       "       house_id   area_type  availability            location  total_sqft  \\\n",
       "7    house_3418  Plot  Area             1  Kumaraswami Layout      1270.0   \n",
       "39   house_3511  Plot  Area             1         Uttarahalli      1200.0   \n",
       "41   house_6505  Plot  Area             1        Yeshwanthpur      2400.0   \n",
       "57  house_11518  Plot  Area             1            Abbigere      1200.0   \n",
       "63  house_13217  Plot  Area             1               other      1200.0   \n",
       "\n",
       "    bath  balcony  price  BHK   Devarachikkanahalli  ...  Yelahanka  \\\n",
       "7    4.0      1.0  128.0  5.0                   0.0  ...        0.0   \n",
       "39   7.0      2.0  225.0  7.0                   0.0  ...        0.0   \n",
       "41   6.0      2.0  270.0  9.0                   0.0  ...        0.0   \n",
       "57   6.0      1.0   95.0  6.0                   0.0  ...        0.0   \n",
       "63   3.0      2.0  125.0  6.0                   0.0  ...        0.0   \n",
       "\n",
       "    Yelahanka New Town  Yelenahalli  Yeshwanthpur  other  Built-up  Area  \\\n",
       "7                  0.0          0.0           0.0    0.0             0.0   \n",
       "39                 0.0          0.0           0.0    0.0             0.0   \n",
       "41                 0.0          0.0           1.0    0.0             0.0   \n",
       "57                 0.0          0.0           0.0    0.0             0.0   \n",
       "63                 0.0          0.0           0.0    1.0             0.0   \n",
       "\n",
       "    Carpet  Area  Plot  Area  Super built-up  Area  price_per_sqft  \n",
       "7            0.0         1.0                   0.0    10078.740157  \n",
       "39           0.0         1.0                   0.0    18750.000000  \n",
       "41           0.0         1.0                   0.0    11250.000000  \n",
       "57           0.0         1.0                   0.0     7916.666667  \n",
       "63           0.0         1.0                   0.0    10416.666667  \n",
       "\n",
       "[5 rows x 235 columns]"
      ]
     },
     "execution_count": 61,
     "metadata": {},
     "output_type": "execute_result"
    }
   ],
   "source": [
    "data[data.total_sqft / data.BHK < 300].head()"
   ]
  },
  {
   "cell_type": "code",
   "execution_count": 62,
   "metadata": {
    "collapsed": false
   },
   "outputs": [
    {
     "data": {
      "image/png": "[encoded data removed]",
      "text/plain": [
       "<Figure size 1440x576 with 1 Axes>"
      ]
     },
     "metadata": {
      "needs_background": "light"
     },
     "output_type": "display_data"
    }
   ],
   "source": [
    "plt.figure(figsize=(20,8))\n",
    "cond2 = ((data.location == 'Whitefield') & (data.BHK == 2))\n",
    "cond3 = ((data.location == 'Whitefield') & (data.BHK == 3))\n",
    "plt.scatter(data.loc[cond2, 'total_sqft'], data.loc[cond2, 'price'], marker ='+', color='red')\n",
    "plt.scatter(data.loc[cond3, 'total_sqft'], data.loc[cond3, 'price'], marker ='*', color='green')\n",
    "plt.show()"
   ]
  },
  {
   "cell_type": "code",
   "execution_count": 63,
   "metadata": {
    "collapsed": false
   },
   "outputs": [
    {
     "data": {
      "text/plain": [
       "(10656, 235)"
      ]
     },
     "execution_count": 63,
     "metadata": {},
     "output_type": "execute_result"
    }
   ],
   "source": [
    "data.shape"
   ]
  },
  {
   "cell_type": "code",
   "execution_count": 64,
   "metadata": {
    "collapsed": false
   },
   "outputs": [],
   "source": [
    "df1 = data[~(data.total_sqft / data.BHK < 300)]"
   ]
  },
  {
   "cell_type": "code",
   "execution_count": 65,
   "metadata": {
    "collapsed": false
   },
   "outputs": [
    {
     "data": {
      "text/plain": [
       "(10062, 235)"
      ]
     },
     "execution_count": 65,
     "metadata": {},
     "output_type": "execute_result"
    }
   ],
   "source": [
    "df1.shape"
   ]
  },
  {
   "cell_type": "markdown",
   "metadata": {
    "collapsed": false
   },
   "source": [
    "Outlier Removing Using Std and mean"
   ]
  },
  {
   "cell_type": "code",
   "execution_count": 66,
   "metadata": {
    "collapsed": false
   },
   "outputs": [
    {
     "data": {
      "text/plain": [
       "count    10062.000000\n",
       "mean      6314.451684\n",
       "std       3905.578348\n",
       "min        267.829813\n",
       "25%       4212.025777\n",
       "50%       5305.794343\n",
       "75%       6932.530120\n",
       "max      76923.076923\n",
       "Name: price_per_sqft, dtype: float64"
      ]
     },
     "execution_count": 66,
     "metadata": {},
     "output_type": "execute_result"
    }
   ],
   "source": [
    "df1.price_per_sqft.describe()"
   ]
  },
  {
   "cell_type": "code",
   "execution_count": 67,
   "metadata": {
    "collapsed": false
   },
   "outputs": [],
   "source": [
    "def remove_price_per_sqft_outliers(df):\n",
    "    df_out = pd.DataFrame()\n",
    "    for key, subdf in df.groupby('location'):\n",
    "        m = np.mean(subdf.price_per_sqft)\n",
    "        st = np.std(subdf.price_per_sqft)\n",
    "        reduced_df = subdf[(subdf.price_per_sqft>(m-st)) & (subdf.price_per_sqft<=(m+st))]\n",
    "        df_out = pd.concat([df_out,reduced_df],ignore_index=True)\n",
    "    return df_out"
   ]
  },
  {
   "cell_type": "code",
   "execution_count": 68,
   "metadata": {
    "collapsed": false
   },
   "outputs": [],
   "source": [
    "df2 = remove_price_per_sqft_outliers(df1)"
   ]
  },
  {
   "cell_type": "code",
   "execution_count": 69,
   "metadata": {
    "collapsed": false
   },
   "outputs": [
    {
     "data": {
      "text/plain": [
       "(8209, 235)"
      ]
     },
     "execution_count": 69,
     "metadata": {},
     "output_type": "execute_result"
    }
   ],
   "source": [
    "df2.shape"
   ]
  },
  {
   "cell_type": "code",
   "execution_count": 70,
   "metadata": {
    "collapsed": false
   },
   "outputs": [],
   "source": [
    "df3 = df2.drop(['location','area_type'],axis=1)"
   ]
  },
  {
   "cell_type": "code",
   "execution_count": 71,
   "metadata": {
    "collapsed": false
   },
   "outputs": [
    {
     "data": {
      "text/plain": [
       "(8209, 233)"
      ]
     },
     "execution_count": 71,
     "metadata": {},
     "output_type": "execute_result"
    }
   ],
   "source": [
    "df3.shape"
   ]
  },
  {
   "cell_type": "code",
   "execution_count": 72,
   "metadata": {
    "collapsed": false
   },
   "outputs": [
    {
     "name": "stdout",
     "output_type": "stream",
     "text": [
      "<class 'pandas.core.frame.DataFrame'>\n",
      "RangeIndex: 8209 entries, 0 to 8208\n",
      "Columns: 233 entries, house_id to price_per_sqft\n",
      "dtypes: float64(231), object(1), uint8(1)\n",
      "memory usage: 14.5+ MB\n"
     ]
    }
   ],
   "source": [
    "df3.info()"
   ]
  },
  {
   "cell_type": "code",
   "execution_count": 73,
   "metadata": {
    "collapsed": false
   },
   "outputs": [
    {
     "data": {
      "text/html": [
       "<div>\n",
       "<style scoped>\n",
       "    .dataframe tbody tr th:only-of-type {\n",
       "        vertical-align: middle;\n",
       "    }\n",
       "\n",
       "    .dataframe tbody tr th {\n",
       "        vertical-align: top;\n",
       "    }\n",
       "\n",
       "    .dataframe thead th {\n",
       "        text-align: right;\n",
       "    }\n",
       "</style>\n",
       "<table border=\"1\" class=\"dataframe\">\n",
       "  <thead>\n",
       "    <tr style=\"text-align: right;\">\n",
       "      <th></th>\n",
       "      <th>house_id</th>\n",
       "      <th>availability</th>\n",
       "      <th>total_sqft</th>\n",
       "      <th>bath</th>\n",
       "      <th>balcony</th>\n",
       "      <th>price</th>\n",
       "      <th>BHK</th>\n",
       "      <th>Devarachikkanahalli</th>\n",
       "      <th>1st Block Jayanagar</th>\n",
       "      <th>1st Phase JP Nagar</th>\n",
       "      <th>...</th>\n",
       "      <th>Yelahanka</th>\n",
       "      <th>Yelahanka New Town</th>\n",
       "      <th>Yelenahalli</th>\n",
       "      <th>Yeshwanthpur</th>\n",
       "      <th>other</th>\n",
       "      <th>Built-up  Area</th>\n",
       "      <th>Carpet  Area</th>\n",
       "      <th>Plot  Area</th>\n",
       "      <th>Super built-up  Area</th>\n",
       "      <th>price_per_sqft</th>\n",
       "    </tr>\n",
       "  </thead>\n",
       "  <tbody>\n",
       "    <tr>\n",
       "      <th>0</th>\n",
       "      <td>house_152</td>\n",
       "      <td>0</td>\n",
       "      <td>1250.0</td>\n",
       "      <td>2.0</td>\n",
       "      <td>3.0</td>\n",
       "      <td>44.0</td>\n",
       "      <td>3.0</td>\n",
       "      <td>1.0</td>\n",
       "      <td>0.0</td>\n",
       "      <td>0.0</td>\n",
       "      <td>...</td>\n",
       "      <td>0.0</td>\n",
       "      <td>0.0</td>\n",
       "      <td>0.0</td>\n",
       "      <td>0.0</td>\n",
       "      <td>0.0</td>\n",
       "      <td>0.0</td>\n",
       "      <td>0.0</td>\n",
       "      <td>0.0</td>\n",
       "      <td>1.0</td>\n",
       "      <td>3520.000000</td>\n",
       "    </tr>\n",
       "    <tr>\n",
       "      <th>1</th>\n",
       "      <td>house_10582</td>\n",
       "      <td>1</td>\n",
       "      <td>991.0</td>\n",
       "      <td>2.0</td>\n",
       "      <td>2.0</td>\n",
       "      <td>40.0</td>\n",
       "      <td>2.0</td>\n",
       "      <td>1.0</td>\n",
       "      <td>0.0</td>\n",
       "      <td>0.0</td>\n",
       "      <td>...</td>\n",
       "      <td>0.0</td>\n",
       "      <td>0.0</td>\n",
       "      <td>0.0</td>\n",
       "      <td>0.0</td>\n",
       "      <td>0.0</td>\n",
       "      <td>0.0</td>\n",
       "      <td>0.0</td>\n",
       "      <td>0.0</td>\n",
       "      <td>1.0</td>\n",
       "      <td>4036.326942</td>\n",
       "    </tr>\n",
       "    <tr>\n",
       "      <th>2</th>\n",
       "      <td>house_5030</td>\n",
       "      <td>1</td>\n",
       "      <td>1170.0</td>\n",
       "      <td>2.0</td>\n",
       "      <td>2.0</td>\n",
       "      <td>40.0</td>\n",
       "      <td>2.0</td>\n",
       "      <td>1.0</td>\n",
       "      <td>0.0</td>\n",
       "      <td>0.0</td>\n",
       "      <td>...</td>\n",
       "      <td>0.0</td>\n",
       "      <td>0.0</td>\n",
       "      <td>0.0</td>\n",
       "      <td>0.0</td>\n",
       "      <td>0.0</td>\n",
       "      <td>0.0</td>\n",
       "      <td>0.0</td>\n",
       "      <td>0.0</td>\n",
       "      <td>1.0</td>\n",
       "      <td>3418.803419</td>\n",
       "    </tr>\n",
       "    <tr>\n",
       "      <th>3</th>\n",
       "      <td>house_11101</td>\n",
       "      <td>1</td>\n",
       "      <td>1700.0</td>\n",
       "      <td>3.0</td>\n",
       "      <td>1.0</td>\n",
       "      <td>71.0</td>\n",
       "      <td>3.0</td>\n",
       "      <td>1.0</td>\n",
       "      <td>0.0</td>\n",
       "      <td>0.0</td>\n",
       "      <td>...</td>\n",
       "      <td>0.0</td>\n",
       "      <td>0.0</td>\n",
       "      <td>0.0</td>\n",
       "      <td>0.0</td>\n",
       "      <td>0.0</td>\n",
       "      <td>0.0</td>\n",
       "      <td>0.0</td>\n",
       "      <td>0.0</td>\n",
       "      <td>1.0</td>\n",
       "      <td>4176.470588</td>\n",
       "    </tr>\n",
       "    <tr>\n",
       "      <th>4</th>\n",
       "      <td>house_5771</td>\n",
       "      <td>1</td>\n",
       "      <td>1425.0</td>\n",
       "      <td>2.0</td>\n",
       "      <td>2.0</td>\n",
       "      <td>65.0</td>\n",
       "      <td>3.0</td>\n",
       "      <td>1.0</td>\n",
       "      <td>0.0</td>\n",
       "      <td>0.0</td>\n",
       "      <td>...</td>\n",
       "      <td>0.0</td>\n",
       "      <td>0.0</td>\n",
       "      <td>0.0</td>\n",
       "      <td>0.0</td>\n",
       "      <td>0.0</td>\n",
       "      <td>0.0</td>\n",
       "      <td>0.0</td>\n",
       "      <td>0.0</td>\n",
       "      <td>1.0</td>\n",
       "      <td>4561.403509</td>\n",
       "    </tr>\n",
       "  </tbody>\n",
       "</table>\n",
       "<p>5 rows × 233 columns</p>\n",
       "</div>"
      ],
      "text/plain": [
       "      house_id  availability  total_sqft  bath  balcony  price  BHK  \\\n",
       "0    house_152             0      1250.0   2.0      3.0   44.0  3.0   \n",
       "1  house_10582             1       991.0   2.0      2.0   40.0  2.0   \n",
       "2   house_5030             1      1170.0   2.0      2.0   40.0  2.0   \n",
       "3  house_11101             1      1700.0   3.0      1.0   71.0  3.0   \n",
       "4   house_5771             1      1425.0   2.0      2.0   65.0  3.0   \n",
       "\n",
       "    Devarachikkanahalli  1st Block Jayanagar  1st Phase JP Nagar  ...  \\\n",
       "0                   1.0                  0.0                 0.0  ...   \n",
       "1                   1.0                  0.0                 0.0  ...   \n",
       "2                   1.0                  0.0                 0.0  ...   \n",
       "3                   1.0                  0.0                 0.0  ...   \n",
       "4                   1.0                  0.0                 0.0  ...   \n",
       "\n",
       "   Yelahanka  Yelahanka New Town  Yelenahalli  Yeshwanthpur  other  \\\n",
       "0        0.0                 0.0          0.0           0.0    0.0   \n",
       "1        0.0                 0.0          0.0           0.0    0.0   \n",
       "2        0.0                 0.0          0.0           0.0    0.0   \n",
       "3        0.0                 0.0          0.0           0.0    0.0   \n",
       "4        0.0                 0.0          0.0           0.0    0.0   \n",
       "\n",
       "   Built-up  Area  Carpet  Area  Plot  Area  Super built-up  Area  \\\n",
       "0             0.0           0.0         0.0                   1.0   \n",
       "1             0.0           0.0         0.0                   1.0   \n",
       "2             0.0           0.0         0.0                   1.0   \n",
       "3             0.0           0.0         0.0                   1.0   \n",
       "4             0.0           0.0         0.0                   1.0   \n",
       "\n",
       "   price_per_sqft  \n",
       "0     3520.000000  \n",
       "1     4036.326942  \n",
       "2     3418.803419  \n",
       "3     4176.470588  \n",
       "4     4561.403509  \n",
       "\n",
       "[5 rows x 233 columns]"
      ]
     },
     "execution_count": 73,
     "metadata": {},
     "output_type": "execute_result"
    }
   ],
   "source": [
    "df3.head()"
   ]
  },
  {
   "cell_type": "markdown",
   "metadata": {
    "collapsed": false
   },
   "source": [
    "Model Prediction"
   ]
  },
  {
   "cell_type": "code",
   "execution_count": 78,
   "metadata": {
    "collapsed": false
   },
   "outputs": [],
   "source": [
    "from sklearn.model_selection import train_test_split\n",
    "X_train,X_val,y_train,y_val = train_test_split(df3.drop('price',axis=1),df3.price,test_size=0.2,random_state=42)"
   ]
  },
  {
   "cell_type": "code",
   "execution_count": 79,
   "metadata": {
    "collapsed": false
   },
   "outputs": [],
   "source": [
    "X_train_id = X_train.house_id\n",
    "X_val_id = X_val.house_id"
   ]
  },
  {
   "cell_type": "code",
   "execution_count": 80,
   "metadata": {
    "collapsed": false
   },
   "outputs": [],
   "source": [
    "X_train = X_train.drop('house_id',axis=1)\n",
    "X_train = X_train.drop('price_per_sqft',axis=1)\n",
    "\n",
    "X_val = X_val.drop('price_per_sqft',axis=1)\n",
    "X_val = X_val.drop('house_id',axis=1)"
   ]
  },
  {
   "cell_type": "code",
   "execution_count": 81,
   "metadata": {
    "collapsed": false
   },
   "outputs": [
    {
     "name": "stdout",
     "output_type": "stream",
     "text": [
      "<class 'pandas.core.frame.DataFrame'>\n",
      "Int64Index: 6567 entries, 5900 to 7270\n",
      "Columns: 230 entries, availability to Super built-up  Area\n",
      "dtypes: float64(229), uint8(1)\n",
      "memory usage: 11.5 MB\n"
     ]
    }
   ],
   "source": [
    "X_train.info()"
   ]
  },
  {
   "cell_type": "code",
   "execution_count": 82,
   "metadata": {
    "collapsed": false
   },
   "outputs": [
    {
     "data": {
      "text/html": [
       "<div>\n",
       "<style scoped>\n",
       "    .dataframe tbody tr th:only-of-type {\n",
       "        vertical-align: middle;\n",
       "    }\n",
       "\n",
       "    .dataframe tbody tr th {\n",
       "        vertical-align: top;\n",
       "    }\n",
       "\n",
       "    .dataframe thead th {\n",
       "        text-align: right;\n",
       "    }\n",
       "</style>\n",
       "<table border=\"1\" class=\"dataframe\">\n",
       "  <thead>\n",
       "    <tr style=\"text-align: right;\">\n",
       "      <th></th>\n",
       "      <th>availability</th>\n",
       "      <th>total_sqft</th>\n",
       "      <th>bath</th>\n",
       "      <th>balcony</th>\n",
       "      <th>BHK</th>\n",
       "      <th>Devarachikkanahalli</th>\n",
       "      <th>1st Block Jayanagar</th>\n",
       "      <th>1st Phase JP Nagar</th>\n",
       "      <th>2nd Stage Nagarbhavi</th>\n",
       "      <th>5th Phase JP Nagar</th>\n",
       "      <th>...</th>\n",
       "      <th>Yelachenahalli</th>\n",
       "      <th>Yelahanka</th>\n",
       "      <th>Yelahanka New Town</th>\n",
       "      <th>Yelenahalli</th>\n",
       "      <th>Yeshwanthpur</th>\n",
       "      <th>other</th>\n",
       "      <th>Built-up  Area</th>\n",
       "      <th>Carpet  Area</th>\n",
       "      <th>Plot  Area</th>\n",
       "      <th>Super built-up  Area</th>\n",
       "    </tr>\n",
       "  </thead>\n",
       "  <tbody>\n",
       "    <tr>\n",
       "      <th>count</th>\n",
       "      <td>6567.000000</td>\n",
       "      <td>6567.000000</td>\n",
       "      <td>6567.000000</td>\n",
       "      <td>6567.000000</td>\n",
       "      <td>6567.000000</td>\n",
       "      <td>6567.000000</td>\n",
       "      <td>6567.000000</td>\n",
       "      <td>6567.000000</td>\n",
       "      <td>6567.000000</td>\n",
       "      <td>6567.000000</td>\n",
       "      <td>...</td>\n",
       "      <td>6567.000000</td>\n",
       "      <td>6567.000000</td>\n",
       "      <td>6567.000000</td>\n",
       "      <td>6567.000000</td>\n",
       "      <td>6567.000000</td>\n",
       "      <td>6567.000000</td>\n",
       "      <td>6567.000000</td>\n",
       "      <td>6567.000000</td>\n",
       "      <td>6567.000000</td>\n",
       "      <td>6567.000000</td>\n",
       "    </tr>\n",
       "    <tr>\n",
       "      <th>mean</th>\n",
       "      <td>0.786356</td>\n",
       "      <td>1504.714866</td>\n",
       "      <td>2.472666</td>\n",
       "      <td>1.612608</td>\n",
       "      <td>2.574539</td>\n",
       "      <td>0.001218</td>\n",
       "      <td>0.000761</td>\n",
       "      <td>0.001827</td>\n",
       "      <td>0.000609</td>\n",
       "      <td>0.002589</td>\n",
       "      <td>...</td>\n",
       "      <td>0.001370</td>\n",
       "      <td>0.016750</td>\n",
       "      <td>0.002893</td>\n",
       "      <td>0.000914</td>\n",
       "      <td>0.005939</td>\n",
       "      <td>0.241358</td>\n",
       "      <td>0.191716</td>\n",
       "      <td>0.006396</td>\n",
       "      <td>0.071265</td>\n",
       "      <td>0.730623</td>\n",
       "    </tr>\n",
       "    <tr>\n",
       "      <th>std</th>\n",
       "      <td>0.409910</td>\n",
       "      <td>895.868967</td>\n",
       "      <td>0.952164</td>\n",
       "      <td>0.789290</td>\n",
       "      <td>0.875189</td>\n",
       "      <td>0.034884</td>\n",
       "      <td>0.027585</td>\n",
       "      <td>0.042711</td>\n",
       "      <td>0.024674</td>\n",
       "      <td>0.050817</td>\n",
       "      <td>...</td>\n",
       "      <td>0.036998</td>\n",
       "      <td>0.128345</td>\n",
       "      <td>0.053715</td>\n",
       "      <td>0.030215</td>\n",
       "      <td>0.076840</td>\n",
       "      <td>0.427940</td>\n",
       "      <td>0.393681</td>\n",
       "      <td>0.079723</td>\n",
       "      <td>0.257287</td>\n",
       "      <td>0.443670</td>\n",
       "    </tr>\n",
       "    <tr>\n",
       "      <th>min</th>\n",
       "      <td>0.000000</td>\n",
       "      <td>300.000000</td>\n",
       "      <td>1.000000</td>\n",
       "      <td>0.000000</td>\n",
       "      <td>1.000000</td>\n",
       "      <td>0.000000</td>\n",
       "      <td>0.000000</td>\n",
       "      <td>0.000000</td>\n",
       "      <td>0.000000</td>\n",
       "      <td>0.000000</td>\n",
       "      <td>...</td>\n",
       "      <td>0.000000</td>\n",
       "      <td>0.000000</td>\n",
       "      <td>0.000000</td>\n",
       "      <td>0.000000</td>\n",
       "      <td>0.000000</td>\n",
       "      <td>0.000000</td>\n",
       "      <td>0.000000</td>\n",
       "      <td>0.000000</td>\n",
       "      <td>0.000000</td>\n",
       "      <td>0.000000</td>\n",
       "    </tr>\n",
       "    <tr>\n",
       "      <th>25%</th>\n",
       "      <td>1.000000</td>\n",
       "      <td>1115.000000</td>\n",
       "      <td>2.000000</td>\n",
       "      <td>1.000000</td>\n",
       "      <td>2.000000</td>\n",
       "      <td>0.000000</td>\n",
       "      <td>0.000000</td>\n",
       "      <td>0.000000</td>\n",
       "      <td>0.000000</td>\n",
       "      <td>0.000000</td>\n",
       "      <td>...</td>\n",
       "      <td>0.000000</td>\n",
       "      <td>0.000000</td>\n",
       "      <td>0.000000</td>\n",
       "      <td>0.000000</td>\n",
       "      <td>0.000000</td>\n",
       "      <td>0.000000</td>\n",
       "      <td>0.000000</td>\n",
       "      <td>0.000000</td>\n",
       "      <td>0.000000</td>\n",
       "      <td>0.000000</td>\n",
       "    </tr>\n",
       "    <tr>\n",
       "      <th>50%</th>\n",
       "      <td>1.000000</td>\n",
       "      <td>1285.000000</td>\n",
       "      <td>2.000000</td>\n",
       "      <td>2.000000</td>\n",
       "      <td>2.000000</td>\n",
       "      <td>0.000000</td>\n",
       "      <td>0.000000</td>\n",
       "      <td>0.000000</td>\n",
       "      <td>0.000000</td>\n",
       "      <td>0.000000</td>\n",
       "      <td>...</td>\n",
       "      <td>0.000000</td>\n",
       "      <td>0.000000</td>\n",
       "      <td>0.000000</td>\n",
       "      <td>0.000000</td>\n",
       "      <td>0.000000</td>\n",
       "      <td>0.000000</td>\n",
       "      <td>0.000000</td>\n",
       "      <td>0.000000</td>\n",
       "      <td>0.000000</td>\n",
       "      <td>1.000000</td>\n",
       "    </tr>\n",
       "    <tr>\n",
       "      <th>75%</th>\n",
       "      <td>1.000000</td>\n",
       "      <td>1650.000000</td>\n",
       "      <td>3.000000</td>\n",
       "      <td>2.000000</td>\n",
       "      <td>3.000000</td>\n",
       "      <td>0.000000</td>\n",
       "      <td>0.000000</td>\n",
       "      <td>0.000000</td>\n",
       "      <td>0.000000</td>\n",
       "      <td>0.000000</td>\n",
       "      <td>...</td>\n",
       "      <td>0.000000</td>\n",
       "      <td>0.000000</td>\n",
       "      <td>0.000000</td>\n",
       "      <td>0.000000</td>\n",
       "      <td>0.000000</td>\n",
       "      <td>0.000000</td>\n",
       "      <td>0.000000</td>\n",
       "      <td>0.000000</td>\n",
       "      <td>0.000000</td>\n",
       "      <td>1.000000</td>\n",
       "    </tr>\n",
       "    <tr>\n",
       "      <th>max</th>\n",
       "      <td>1.000000</td>\n",
       "      <td>30400.000000</td>\n",
       "      <td>13.000000</td>\n",
       "      <td>3.000000</td>\n",
       "      <td>13.000000</td>\n",
       "      <td>1.000000</td>\n",
       "      <td>1.000000</td>\n",
       "      <td>1.000000</td>\n",
       "      <td>1.000000</td>\n",
       "      <td>1.000000</td>\n",
       "      <td>...</td>\n",
       "      <td>1.000000</td>\n",
       "      <td>1.000000</td>\n",
       "      <td>1.000000</td>\n",
       "      <td>1.000000</td>\n",
       "      <td>1.000000</td>\n",
       "      <td>1.000000</td>\n",
       "      <td>1.000000</td>\n",
       "      <td>1.000000</td>\n",
       "      <td>1.000000</td>\n",
       "      <td>1.000000</td>\n",
       "    </tr>\n",
       "  </tbody>\n",
       "</table>\n",
       "<p>8 rows × 230 columns</p>\n",
       "</div>"
      ],
      "text/plain": [
       "       availability    total_sqft         bath      balcony          BHK  \\\n",
       "count   6567.000000   6567.000000  6567.000000  6567.000000  6567.000000   \n",
       "mean       0.786356   1504.714866     2.472666     1.612608     2.574539   \n",
       "std        0.409910    895.868967     0.952164     0.789290     0.875189   \n",
       "min        0.000000    300.000000     1.000000     0.000000     1.000000   \n",
       "25%        1.000000   1115.000000     2.000000     1.000000     2.000000   \n",
       "50%        1.000000   1285.000000     2.000000     2.000000     2.000000   \n",
       "75%        1.000000   1650.000000     3.000000     2.000000     3.000000   \n",
       "max        1.000000  30400.000000    13.000000     3.000000    13.000000   \n",
       "\n",
       "        Devarachikkanahalli  1st Block Jayanagar  1st Phase JP Nagar  \\\n",
       "count           6567.000000          6567.000000         6567.000000   \n",
       "mean               0.001218             0.000761            0.001827   \n",
       "std                0.034884             0.027585            0.042711   \n",
       "min                0.000000             0.000000            0.000000   \n",
       "25%                0.000000             0.000000            0.000000   \n",
       "50%                0.000000             0.000000            0.000000   \n",
       "75%                0.000000             0.000000            0.000000   \n",
       "max                1.000000             1.000000            1.000000   \n",
       "\n",
       "       2nd Stage Nagarbhavi  5th Phase JP Nagar  ...  Yelachenahalli  \\\n",
       "count           6567.000000         6567.000000  ...     6567.000000   \n",
       "mean               0.000609            0.002589  ...        0.001370   \n",
       "std                0.024674            0.050817  ...        0.036998   \n",
       "min                0.000000            0.000000  ...        0.000000   \n",
       "25%                0.000000            0.000000  ...        0.000000   \n",
       "50%                0.000000            0.000000  ...        0.000000   \n",
       "75%                0.000000            0.000000  ...        0.000000   \n",
       "max                1.000000            1.000000  ...        1.000000   \n",
       "\n",
       "         Yelahanka  Yelahanka New Town  Yelenahalli  Yeshwanthpur  \\\n",
       "count  6567.000000         6567.000000  6567.000000   6567.000000   \n",
       "mean      0.016750            0.002893     0.000914      0.005939   \n",
       "std       0.128345            0.053715     0.030215      0.076840   \n",
       "min       0.000000            0.000000     0.000000      0.000000   \n",
       "25%       0.000000            0.000000     0.000000      0.000000   \n",
       "50%       0.000000            0.000000     0.000000      0.000000   \n",
       "75%       0.000000            0.000000     0.000000      0.000000   \n",
       "max       1.000000            1.000000     1.000000      1.000000   \n",
       "\n",
       "             other  Built-up  Area  Carpet  Area   Plot  Area  \\\n",
       "count  6567.000000     6567.000000   6567.000000  6567.000000   \n",
       "mean      0.241358        0.191716      0.006396     0.071265   \n",
       "std       0.427940        0.393681      0.079723     0.257287   \n",
       "min       0.000000        0.000000      0.000000     0.000000   \n",
       "25%       0.000000        0.000000      0.000000     0.000000   \n",
       "50%       0.000000        0.000000      0.000000     0.000000   \n",
       "75%       0.000000        0.000000      0.000000     0.000000   \n",
       "max       1.000000        1.000000      1.000000     1.000000   \n",
       "\n",
       "       Super built-up  Area  \n",
       "count           6567.000000  \n",
       "mean               0.730623  \n",
       "std                0.443670  \n",
       "min                0.000000  \n",
       "25%                0.000000  \n",
       "50%                1.000000  \n",
       "75%                1.000000  \n",
       "max                1.000000  \n",
       "\n",
       "[8 rows x 230 columns]"
      ]
     },
     "execution_count": 82,
     "metadata": {},
     "output_type": "execute_result"
    }
   ],
   "source": [
    "X_train.describe()"
   ]
  },
  {
   "cell_type": "code",
   "execution_count": 83,
   "metadata": {
    "collapsed": false
   },
   "outputs": [],
   "source": [
    "from sklearn.linear_model import LinearRegression"
   ]
  },
  {
   "cell_type": "code",
   "execution_count": 84,
   "metadata": {
    "collapsed": false
   },
   "outputs": [
    {
     "data": {
      "text/plain": [
       "LinearRegression()"
      ]
     },
     "execution_count": 84,
     "metadata": {},
     "output_type": "execute_result"
    }
   ],
   "source": [
    "lr_clf = LinearRegression()\n",
    "lr_clf.fit(X_train,y_train)"
   ]
  },
  {
   "cell_type": "code",
   "execution_count": 85,
   "metadata": {
    "collapsed": false
   },
   "outputs": [],
   "source": [
    "predictions_lr = lr_clf.predict(X_val)"
   ]
  },
  {
   "cell_type": "code",
   "execution_count": 86,
   "metadata": {
    "collapsed": false
   },
   "outputs": [
    {
     "name": "stdout",
     "output_type": "stream",
     "text": [
      "0.8381970437672916\n"
     ]
    }
   ],
   "source": [
    "from sklearn.metrics import explained_variance_score\n",
    "print(explained_variance_score(y_val, predictions_lr))"
   ]
  },
  {
   "cell_type": "code",
   "execution_count": 87,
   "metadata": {
    "collapsed": false
   },
   "outputs": [
    {
     "data": {
      "text/plain": [
       "0.8381790253230073"
      ]
     },
     "execution_count": 87,
     "metadata": {},
     "output_type": "execute_result"
    }
   ],
   "source": [
    "lr_clf.score(X_val,y_val)"
   ]
  }
 ],
 "metadata": {
  "kernelspec": {
   "display_name": "Python 3",
   "language": "python",
   "name": "python3"
  },
  "language_info": {
   "codemirror_mode": {
    "name": "ipython",
    "version": 2
   },
   "file_extension": ".py",
   "mimetype": "text/x-python",
   "name": "python",
   "nbconvert_exporter": "python",
   "pygments_lexer": "ipython2",
   "version": "2.7.6"
  }
 },
 "nbformat": 4,
 "nbformat_minor": 0
}
